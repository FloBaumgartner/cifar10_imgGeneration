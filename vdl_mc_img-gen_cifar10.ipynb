{
 "cells": [
  {
   "cell_type": "code",
   "execution_count": 1,
   "id": "9abd2886-2671-4338-9f36-1603eb6d92bf",
   "metadata": {
    "ExecuteTime": {
     "end_time": "2025-01-04T15:55:06.905652Z",
     "start_time": "2025-01-04T15:55:06.897959Z"
    }
   },
   "outputs": [],
   "source": [
    "#!pip install --user numpy pandas matplotlib wandb tqdm"
   ]
  },
  {
   "cell_type": "code",
   "execution_count": 2,
   "id": "f5889286-2e58-4fca-a9a4-d1f11d3c35ff",
   "metadata": {
    "ExecuteTime": {
     "end_time": "2025-01-04T15:55:09.308124Z",
     "start_time": "2025-01-04T15:55:09.295956Z"
    }
   },
   "outputs": [],
   "source": [
    "#!pip install --user torch torchvision torchaudio --index-url https://download.pytorch.org/whl/cu124\n",
    "#!pip install --user torch-fidelity"
   ]
  },
  {
   "cell_type": "code",
   "execution_count": 3,
   "id": "initial_id",
   "metadata": {
    "ExecuteTime": {
     "end_time": "2025-01-04T15:55:16.523419Z",
     "start_time": "2025-01-04T15:55:09.424839Z"
    }
   },
   "outputs": [],
   "source": [
    "import os\n",
    "import math\n",
    "import numpy as np\n",
    "import pandas as pd\n",
    "import matplotlib.pyplot as plt\n",
    "\n",
    "import torch\n",
    "from torch.utils.data import DataLoader, Subset, random_split\n",
    "import torch.nn as nn\n",
    "import torch.nn.functional as F\n",
    "import torch.optim as optim\n",
    "\n",
    "import torchvision\n",
    "import torchvision.transforms as transforms\n",
    "import torchvision.utils as vutils\n",
    "\n",
    "from torch_fidelity import calculate_metrics\n",
    "\n",
    "import wandb\n",
    "from tqdm.notebook import tqdm"
   ]
  },
  {
   "cell_type": "markdown",
   "id": "27cd73a5da1f9638",
   "metadata": {},
   "source": [
    "# Preprocessing"
   ]
  },
  {
   "cell_type": "markdown",
   "id": "c297e8f7aaf9f8f8",
   "metadata": {},
   "source": [
    "## cuda check"
   ]
  },
  {
   "cell_type": "code",
   "execution_count": 4,
   "id": "51611b2556a4056d",
   "metadata": {
    "ExecuteTime": {
     "end_time": "2025-01-04T15:55:17.904001Z",
     "start_time": "2025-01-04T15:55:16.536931Z"
    }
   },
   "outputs": [
    {
     "data": {
      "text/plain": [
       "True"
      ]
     },
     "metadata": {},
     "output_type": "display_data"
    }
   ],
   "source": [
    "# check if CUDA is available\n",
    "train_on_gpu = torch.cuda.is_available()\n",
    "display(train_on_gpu)\n",
    "device = torch.device(\"cuda\" if torch.cuda.is_available() else \"cpu\")"
   ]
  },
  {
   "cell_type": "markdown",
   "id": "784d765d5bb3cb38",
   "metadata": {},
   "source": [
    "## Load CIFAR10 dataset"
   ]
  },
  {
   "cell_type": "code",
   "execution_count": 5,
   "id": "ae2afe650a00572e",
   "metadata": {
    "ExecuteTime": {
     "end_time": "2025-01-04T15:55:18.850671Z",
     "start_time": "2025-01-04T15:55:17.905021Z"
    }
   },
   "outputs": [],
   "source": [
    "transform = transforms.Compose([\n",
    "    transforms.ToTensor(),\n",
    "    transforms.Normalize((0.5, 0.5, 0.5), (0.5, 0.5, 0.5))\n",
    "])\n",
    "\n",
    "trainset = torchvision.datasets.CIFAR10(root='./data', train=True, download=False, transform=transform)"
   ]
  },
  {
   "cell_type": "markdown",
   "id": "fd3febfcae5fc399",
   "metadata": {},
   "source": [
    "## WandB login"
   ]
  },
  {
   "cell_type": "code",
   "execution_count": 6,
   "id": "57bf8b6187517a4e",
   "metadata": {
    "ExecuteTime": {
     "end_time": "2025-01-04T15:55:20.330650Z",
     "start_time": "2025-01-04T15:55:18.850671Z"
    }
   },
   "outputs": [
    {
     "name": "stderr",
     "output_type": "stream",
     "text": [
      "\u001B[34m\u001B[1mwandb\u001B[0m: Using wandb-core as the SDK backend.  Please refer to https://wandb.me/wandb-core for more information.\n",
      "\u001B[34m\u001B[1mwandb\u001B[0m: Currently logged in as: \u001B[33mfloowbaumgartner\u001B[0m (\u001B[33mfloow-fhnw\u001B[0m). Use \u001B[1m`wandb login --relogin`\u001B[0m to force relogin\n"
     ]
    },
    {
     "data": {
      "text/plain": [
       "True"
      ]
     },
     "execution_count": 6,
     "metadata": {},
     "output_type": "execute_result"
    }
   ],
   "source": [
    "wandb.login()"
   ]
  },
  {
   "cell_type": "markdown",
   "id": "fbff2e553ba116fd",
   "metadata": {},
   "source": [
    "## EDA"
   ]
  },
  {
   "cell_type": "code",
   "execution_count": 7,
   "id": "fff9da725fa8b14d",
   "metadata": {
    "ExecuteTime": {
     "end_time": "2025-01-04T15:55:20.338221Z",
     "start_time": "2025-01-04T15:55:20.330650Z"
    }
   },
   "outputs": [],
   "source": [
    "#TODO skip (discussed with martin)"
   ]
  },
  {
   "cell_type": "markdown",
   "id": "c626eb9bf0c8f3a9",
   "metadata": {},
   "source": [
    "# simple diffusion model\n",
    "\n",
    "## structure"
   ]
  },
  {
   "cell_type": "code",
   "execution_count": 8,
   "id": "b10d2451b0a9edc0",
   "metadata": {
    "ExecuteTime": {
     "end_time": "2025-01-04T15:55:20.354820Z",
     "start_time": "2025-01-04T15:55:20.338221Z"
    }
   },
   "outputs": [],
   "source": [
    "def get_images_by_label(dataset, target_label, num_samples=1):\n",
    "    '''\n",
    "    Retrieves `num_samples` images from `dataset` that have the label `target_label`.\n",
    "    '''\n",
    "    images_same_label = []\n",
    "\n",
    "    # Iterate over the dataset to find images with the desired label\n",
    "    for img, label in dataset:\n",
    "        if label == target_label:\n",
    "            images_same_label.append(img)\n",
    "        if len(images_same_label) == num_samples:\n",
    "            break\n",
    "\n",
    "    # Stack the list of images into a single tensor\n",
    "    if len(images_same_label) > 0:\n",
    "        images_overfit = torch.stack(images_same_label)\n",
    "        return images_overfit\n",
    "    else:\n",
    "        return torch.empty(0)"
   ]
  },
  {
   "cell_type": "code",
   "execution_count": 9,
   "id": "f62efa41ab55791b",
   "metadata": {
    "ExecuteTime": {
     "end_time": "2025-01-04T15:55:20.368418Z",
     "start_time": "2025-01-04T15:55:20.354820Z"
    }
   },
   "outputs": [
    {
     "data": {
      "text/plain": [
       "torch.Size([1, 3, 32, 32])"
      ]
     },
     "execution_count": 9,
     "metadata": {},
     "output_type": "execute_result"
    }
   ],
   "source": [
    "images_overfit = get_images_by_label(trainset, 1, 1)\n",
    "images_overfit.shape"
   ]
  },
  {
   "cell_type": "markdown",
   "id": "2139b27717b3591e",
   "metadata": {},
   "source": [
    "### forward process (Noise sheduler)\n",
    "\n",
    "the goal is to sample an image at a timestamp t and deliver it to the model. this makes the training much easier and smoother as the model can learn to denoise the image at each timestep, compared to sequently iterating over the same image over and over again. "
   ]
  },
  {
   "cell_type": "code",
   "execution_count": 10,
   "id": "a78d3bb9c63f3eca",
   "metadata": {
    "ExecuteTime": {
     "end_time": "2025-01-04T15:55:20.380633Z",
     "start_time": "2025-01-04T15:55:20.368418Z"
    }
   },
   "outputs": [],
   "source": [
    "def linear_beta_schedule(timesteps, start=0.0001, end=0.02):\n",
    "    \"\"\"\n",
    "    Create a linear beta schedule for the diffusion model. it is used to calculate the noise level at each timestep.\n",
    "    \"\"\"\n",
    "    return torch.linspace(start, end, timesteps)\n",
    "\n",
    "def get_index_from_list(vals, t, x_shape):\n",
    "    \"\"\" \n",
    "    Returns a specific index t of a passed list of values vals\n",
    "    while considering the batch dimension. (helperfunction)\n",
    "    \"\"\"\n",
    "    batch_size = t.shape[0]\n",
    "    out = vals.gather(-1, t.cpu())\n",
    "    return out.reshape(batch_size, *((1,) * (len(x_shape) - 1))).to(t.device)\n",
    "\n",
    "def forward_diffusion_sample(x_0, t, sqrt_alphas_cumprod, sqrt_one_minus_alphas_cumprod,device=\"gpu\"):\n",
    "    \"\"\" \n",
    "    Takes an image and a timestep as input and \n",
    "    returns the noisy version of it\n",
    "    \"\"\"\n",
    "    noise = torch.randn_like(x_0) #sample noise\n",
    "    sqrt_alphas_cumprod_t = get_index_from_list(sqrt_alphas_cumprod, t, x_0.shape)\n",
    "    sqrt_one_minus_alphas_cumprod_t = get_index_from_list(\n",
    "        sqrt_one_minus_alphas_cumprod, t, x_0.shape\n",
    "    )\n",
    "    # mean + variance\n",
    "    return sqrt_alphas_cumprod_t.to(device) * x_0.to(device) \\\n",
    "    + sqrt_one_minus_alphas_cumprod_t.to(device) * noise.to(device), noise.to(device)\n",
    "\n",
    "def precompute_terms(betas):\n",
    "    \"\"\"\n",
    "    Precomputes terms required to calculate the noisy version of an image\n",
    "    \"\"\"\n",
    "    alphas = 1. - betas\n",
    "    alphas_cumprod = torch.cumprod(alphas, axis=0)\n",
    "    alphas_cumprod_prev = F.pad(alphas_cumprod[:-1], (1, 0), value=1.0)\n",
    "    sqrt_recip_alphas = torch.sqrt(1.0 / alphas)\n",
    "    sqrt_alphas_cumprod = torch.sqrt(alphas_cumprod)\n",
    "    sqrt_one_minus_alphas_cumprod = torch.sqrt(1. - alphas_cumprod)\n",
    "    posterior_variance = betas * (1. - alphas_cumprod_prev) / (1. - alphas_cumprod)\n",
    "\n",
    "    return {\n",
    "        \"alphas\": alphas,\n",
    "        \"alphas_cumprod\": alphas_cumprod,\n",
    "        \"alphas_cumprod_prev\": alphas_cumprod_prev,\n",
    "        \"sqrt_recip_alphas\": sqrt_recip_alphas,\n",
    "        \"sqrt_alphas_cumprod\": sqrt_alphas_cumprod,\n",
    "        \"sqrt_one_minus_alphas_cumprod\": sqrt_one_minus_alphas_cumprod,\n",
    "        \"posterior_variance\": posterior_variance\n",
    "    }"
   ]
  },
  {
   "cell_type": "code",
   "execution_count": 11,
   "id": "82ddbe17aef062fd",
   "metadata": {
    "ExecuteTime": {
     "end_time": "2025-01-04T15:55:20.759897Z",
     "start_time": "2025-01-04T15:55:20.380633Z"
    }
   },
   "outputs": [
    {
     "data": {
      "image/png": "[encoded data removed]",
      "text/plain": [
       "<Figure size 1500x300 with 5 Axes>"
      ]
     },
     "metadata": {},
     "output_type": "display_data"
    }
   ],
   "source": [
    "# time steps\n",
    "T = 100\n",
    "# create beta schedule\n",
    "betas = linear_beta_schedule(timesteps=T)\n",
    "# precompute terms\n",
    "terms = precompute_terms(betas)\n",
    "# define timesteps for visualization\n",
    "timesteps_to_sample = [0, 25, 50, 75, 99]\n",
    "\n",
    "# ectract single overfit image\n",
    "x_0 = images_overfit[0].unsqueeze(0) # shape: (1, C, H, W)\n",
    "\n",
    "# Generate noisy samples at the selected timesteps\n",
    "noisy_images = []\n",
    "for t_val in timesteps_to_sample:\n",
    "    t_tensor = torch.tensor([t_val], dtype=torch.long)\n",
    "    noisy_img, _ = forward_diffusion_sample(\n",
    "        x_0, \n",
    "        t_tensor, \n",
    "        terms[\"sqrt_alphas_cumprod\"], \n",
    "        terms[\"sqrt_one_minus_alphas_cumprod\"], \n",
    "        device=\"cpu\"\n",
    "    )\n",
    "    noisy_images.append(noisy_img[0]) # Remove batch dimension\n",
    "\n",
    "# Helper function to denormalize and convert tensor for plotting\n",
    "def denormalize_and_to_numpy(tensor_image):\n",
    "    \"\"\"\n",
    "    Denormalizes and converts a tensor image to numpy for plotting.(helperfunction)\n",
    "    \"\"\"\n",
    "    # The original transform was Normalize((0.5,0.5,0.5),(0.5,0.5,0.5)),\n",
    "    # therefore apply the inverse transform: image * 0.5 + 0.5\n",
    "    image = tensor_image.clone().detach()\n",
    "    image = (image * 0.5) + 0.5\n",
    "    # Clamp to [0,1] for plotting in rgb\n",
    "    image = image.clamp(0,1)\n",
    "    # Convert from Channels,Hight,Width (C,H,W) to H,W,C and to numpy\n",
    "    image_np = image.permute(1,2,0).cpu()\n",
    "    return image_np\n",
    "\n",
    "\n",
    "# Plot the original and noisy samples\n",
    "fig, axes = plt.subplots(1, len(timesteps_to_sample), figsize=(15, 3))\n",
    "for ax, img, t in zip(axes, noisy_images, timesteps_to_sample):\n",
    "    ax.imshow(denormalize_and_to_numpy(img))\n",
    "    ax.set_title(f\"t = {t}\")\n",
    "    ax.axis(\"off\")\n",
    "\n",
    "plt.tight_layout()\n",
    "plt.show()"
   ]
  },
  {
   "cell_type": "markdown",
   "id": "cea3ec9cb37bb985",
   "metadata": {},
   "source": [
    "### Simple Diffusion"
   ]
  },
  {
   "cell_type": "code",
   "execution_count": 12,
   "id": "e21352e50013dde3",
   "metadata": {
    "ExecuteTime": {
     "end_time": "2025-01-04T15:55:20.775204Z",
     "start_time": "2025-01-04T15:55:20.759897Z"
    }
   },
   "outputs": [],
   "source": [
    "class Block(nn.Module):\n",
    "    def __init__(self, in_ch, out_ch, time_emb_dim, up=False):\n",
    "        super().__init__()\n",
    "        self.time_mlp =  nn.Linear(time_emb_dim, out_ch)\n",
    "        if up:\n",
    "            self.conv1 = nn.Conv2d(2*in_ch, out_ch, 3, padding=1)\n",
    "            self.transform = nn.ConvTranspose2d(out_ch, out_ch, 4, 2, 1)\n",
    "        else:\n",
    "            self.conv1 = nn.Conv2d(in_ch, out_ch, 3, padding=1)\n",
    "            self.transform = nn.Conv2d(out_ch, out_ch, 4, 2, 1)\n",
    "            \n",
    "        self.conv2 = nn.Conv2d(out_ch, out_ch, 3, padding=1)\n",
    "        #self.bnorm1 = nn.BatchNorm2d(out_ch) #changed to groupnorm\n",
    "        #self.bnorm2 = nn.BatchNorm2d(out_ch) #changed to groupnorm\n",
    "        self.gnorm1 = nn.GroupNorm(32, out_ch)\n",
    "        self.gnorm2 = nn.GroupNorm(32, out_ch)\n",
    "\n",
    "        self.relu  = nn.ReLU()\n",
    "\n",
    "    def forward(self, x, t):\n",
    "        # First Conv\n",
    "        #h = self.bnorm1(self.relu(self.conv1(x)))# changed to gnorm\n",
    "        h = self.gnorm1(self.relu(self.conv1(x)))\n",
    "        # Time embedding\n",
    "        time_emb = self.relu(self.time_mlp(t))\n",
    "        # Extend last 2 dimensions\n",
    "        time_emb = time_emb[(..., ) + (None, ) * 2]\n",
    "        # Add time channel\n",
    "        h = h + time_emb\n",
    "        # Second Conv\n",
    "        # h = self.bnorm2(self.relu(self.conv2(h))) #changed to gnorm\n",
    "        h = self.gnorm2(self.relu(self.conv2(h)))\n",
    "        # Down or Upsample\n",
    "        return self.transform(h)\n",
    "    \n",
    "class SinusoidalPositionEmbeddings(nn.Module):\n",
    "    def __init__(self, dim):\n",
    "        super().__init__()\n",
    "        self.dim = dim\n",
    "\n",
    "    def forward(self, time):\n",
    "        device = time.device\n",
    "        half_dim = self.dim // 2\n",
    "        embeddings = math.log(10000) / (half_dim - 1)\n",
    "        embeddings = torch.exp(torch.arange(half_dim, device=device) * -embeddings)\n",
    "        embeddings = time[:, None] * embeddings[None, :]\n",
    "        embeddings = torch.cat((embeddings.sin(), embeddings.cos()), dim=-1)\n",
    "\n",
    "        return embeddings"
   ]
  },
  {
   "cell_type": "code",
   "execution_count": 13,
   "id": "9340471f1d9d1efc",
   "metadata": {
    "ExecuteTime": {
     "end_time": "2025-01-04T15:55:20.792710Z",
     "start_time": "2025-01-04T15:55:20.777927Z"
    }
   },
   "outputs": [],
   "source": [
    "class SimpleUnet(nn.Module):\n",
    "    \"\"\"\n",
    "    A simple variant of the Unet architecture.\n",
    "    \"\"\"\n",
    "    def __init__(self):\n",
    "        super().__init__()\n",
    "        image_channels = 3\n",
    "        down_channels = (64, 128, 256, 512, 1024)\n",
    "        up_channels = (1024, 512, 256, 128, 64)\n",
    "        out_dim = 3 \n",
    "        time_emb_dim = 256 #changed from 32 and 64 and 128\n",
    "        \n",
    "        # Time embedding\n",
    "        self.time_mlp = nn.Sequential(\n",
    "                SinusoidalPositionEmbeddings(time_emb_dim),\n",
    "                nn.Linear(time_emb_dim, time_emb_dim),\n",
    "                nn.SiLU() #changed from Relu to SiLU -> SiLU is a smooth version of ReLU and is good for diffusion models because can avoid dead neurons and smoother than ReLU. (but calculation takes longer)\n",
    "            )\n",
    "        \n",
    "        # Initial projection\n",
    "        self.conv0 = nn.Conv2d(image_channels, down_channels[0], 3, padding=1)\n",
    "\n",
    "        # Downsample\n",
    "        self.downs = nn.ModuleList([Block(down_channels[i], down_channels[i+1], \\\n",
    "                                    time_emb_dim) \\\n",
    "                    for i in range(len(down_channels)-1)])\n",
    "        # Upsample\n",
    "        self.ups = nn.ModuleList([Block(up_channels[i], up_channels[i+1], \\\n",
    "                                        time_emb_dim, up=True) \\\n",
    "                    for i in range(len(up_channels)-1)])\n",
    "        # Output\n",
    "        self.output = nn.Conv2d(up_channels[-1], out_dim, 1)\n",
    "\n",
    "\n",
    "    def forward(self, x, timestep, y):\n",
    "        # Embedd time\n",
    "        t = self.time_mlp(timestep)\n",
    "        # Initial conv\n",
    "        x = self.conv0(x)\n",
    "        # Unet\n",
    "        residual_inputs = []\n",
    "        for down in self.downs:\n",
    "            x = down(x, t)\n",
    "            residual_inputs.append(x)\n",
    "        for up in self.ups:\n",
    "            residual_x = residual_inputs.pop()\n",
    "            # Add residual x as additional channels\n",
    "            x = torch.cat((x, residual_x), dim=1)           \n",
    "            x = up(x, t)\n",
    "        return self.output(x)"
   ]
  },
  {
   "cell_type": "code",
   "execution_count": 14,
   "id": "1ff24e54af018b00",
   "metadata": {
    "ExecuteTime": {
     "end_time": "2025-01-04T15:55:21.189208Z",
     "start_time": "2025-01-04T15:55:20.792710Z"
    }
   },
   "outputs": [
    {
     "name": "stdout",
     "output_type": "stream",
     "text": [
      "Num params:  62730819\n"
     ]
    },
    {
     "data": {
      "text/plain": [
       "SimpleUnet(\n",
       "  (time_mlp): Sequential(\n",
       "    (0): SinusoidalPositionEmbeddings()\n",
       "    (1): Linear(in_features=128, out_features=128, bias=True)\n",
       "    (2): SiLU()\n",
       "  )\n",
       "  (conv0): Conv2d(3, 64, kernel_size=(3, 3), stride=(1, 1), padding=(1, 1))\n",
       "  (downs): ModuleList(\n",
       "    (0): Block(\n",
       "      (time_mlp): Linear(in_features=128, out_features=128, bias=True)\n",
       "      (conv1): Conv2d(64, 128, kernel_size=(3, 3), stride=(1, 1), padding=(1, 1))\n",
       "      (transform): Conv2d(128, 128, kernel_size=(4, 4), stride=(2, 2), padding=(1, 1))\n",
       "      (conv2): Conv2d(128, 128, kernel_size=(3, 3), stride=(1, 1), padding=(1, 1))\n",
       "      (gnorm1): GroupNorm(32, 128, eps=1e-05, affine=True)\n",
       "      (gnorm2): GroupNorm(32, 128, eps=1e-05, affine=True)\n",
       "      (relu): ReLU()\n",
       "    )\n",
       "    (1): Block(\n",
       "      (time_mlp): Linear(in_features=128, out_features=256, bias=True)\n",
       "      (conv1): Conv2d(128, 256, kernel_size=(3, 3), stride=(1, 1), padding=(1, 1))\n",
       "      (transform): Conv2d(256, 256, kernel_size=(4, 4), stride=(2, 2), padding=(1, 1))\n",
       "      (conv2): Conv2d(256, 256, kernel_size=(3, 3), stride=(1, 1), padding=(1, 1))\n",
       "      (gnorm1): GroupNorm(32, 256, eps=1e-05, affine=True)\n",
       "      (gnorm2): GroupNorm(32, 256, eps=1e-05, affine=True)\n",
       "      (relu): ReLU()\n",
       "    )\n",
       "    (2): Block(\n",
       "      (time_mlp): Linear(in_features=128, out_features=512, bias=True)\n",
       "      (conv1): Conv2d(256, 512, kernel_size=(3, 3), stride=(1, 1), padding=(1, 1))\n",
       "      (transform): Conv2d(512, 512, kernel_size=(4, 4), stride=(2, 2), padding=(1, 1))\n",
       "      (conv2): Conv2d(512, 512, kernel_size=(3, 3), stride=(1, 1), padding=(1, 1))\n",
       "      (gnorm1): GroupNorm(32, 512, eps=1e-05, affine=True)\n",
       "      (gnorm2): GroupNorm(32, 512, eps=1e-05, affine=True)\n",
       "      (relu): ReLU()\n",
       "    )\n",
       "    (3): Block(\n",
       "      (time_mlp): Linear(in_features=128, out_features=1024, bias=True)\n",
       "      (conv1): Conv2d(512, 1024, kernel_size=(3, 3), stride=(1, 1), padding=(1, 1))\n",
       "      (transform): Conv2d(1024, 1024, kernel_size=(4, 4), stride=(2, 2), padding=(1, 1))\n",
       "      (conv2): Conv2d(1024, 1024, kernel_size=(3, 3), stride=(1, 1), padding=(1, 1))\n",
       "      (gnorm1): GroupNorm(32, 1024, eps=1e-05, affine=True)\n",
       "      (gnorm2): GroupNorm(32, 1024, eps=1e-05, affine=True)\n",
       "      (relu): ReLU()\n",
       "    )\n",
       "  )\n",
       "  (ups): ModuleList(\n",
       "    (0): Block(\n",
       "      (time_mlp): Linear(in_features=128, out_features=512, bias=True)\n",
       "      (conv1): Conv2d(2048, 512, kernel_size=(3, 3), stride=(1, 1), padding=(1, 1))\n",
       "      (transform): ConvTranspose2d(512, 512, kernel_size=(4, 4), stride=(2, 2), padding=(1, 1))\n",
       "      (conv2): Conv2d(512, 512, kernel_size=(3, 3), stride=(1, 1), padding=(1, 1))\n",
       "      (gnorm1): GroupNorm(32, 512, eps=1e-05, affine=True)\n",
       "      (gnorm2): GroupNorm(32, 512, eps=1e-05, affine=True)\n",
       "      (relu): ReLU()\n",
       "    )\n",
       "    (1): Block(\n",
       "      (time_mlp): Linear(in_features=128, out_features=256, bias=True)\n",
       "      (conv1): Conv2d(1024, 256, kernel_size=(3, 3), stride=(1, 1), padding=(1, 1))\n",
       "      (transform): ConvTranspose2d(256, 256, kernel_size=(4, 4), stride=(2, 2), padding=(1, 1))\n",
       "      (conv2): Conv2d(256, 256, kernel_size=(3, 3), stride=(1, 1), padding=(1, 1))\n",
       "      (gnorm1): GroupNorm(32, 256, eps=1e-05, affine=True)\n",
       "      (gnorm2): GroupNorm(32, 256, eps=1e-05, affine=True)\n",
       "      (relu): ReLU()\n",
       "    )\n",
       "    (2): Block(\n",
       "      (time_mlp): Linear(in_features=128, out_features=128, bias=True)\n",
       "      (conv1): Conv2d(512, 128, kernel_size=(3, 3), stride=(1, 1), padding=(1, 1))\n",
       "      (transform): ConvTranspose2d(128, 128, kernel_size=(4, 4), stride=(2, 2), padding=(1, 1))\n",
       "      (conv2): Conv2d(128, 128, kernel_size=(3, 3), stride=(1, 1), padding=(1, 1))\n",
       "      (gnorm1): GroupNorm(32, 128, eps=1e-05, affine=True)\n",
       "      (gnorm2): GroupNorm(32, 128, eps=1e-05, affine=True)\n",
       "      (relu): ReLU()\n",
       "    )\n",
       "    (3): Block(\n",
       "      (time_mlp): Linear(in_features=128, out_features=64, bias=True)\n",
       "      (conv1): Conv2d(256, 64, kernel_size=(3, 3), stride=(1, 1), padding=(1, 1))\n",
       "      (transform): ConvTranspose2d(64, 64, kernel_size=(4, 4), stride=(2, 2), padding=(1, 1))\n",
       "      (conv2): Conv2d(64, 64, kernel_size=(3, 3), stride=(1, 1), padding=(1, 1))\n",
       "      (gnorm1): GroupNorm(32, 64, eps=1e-05, affine=True)\n",
       "      (gnorm2): GroupNorm(32, 64, eps=1e-05, affine=True)\n",
       "      (relu): ReLU()\n",
       "    )\n",
       "  )\n",
       "  (output): Conv2d(64, 3, kernel_size=(1, 1), stride=(1, 1))\n",
       ")"
      ]
     },
     "execution_count": 14,
     "metadata": {},
     "output_type": "execute_result"
    }
   ],
   "source": [
    "model = SimpleUnet()\n",
    "print(\"Num params: \", sum(p.numel() for p in model.parameters()))\n",
    "model"
   ]
  },
  {
   "cell_type": "markdown",
   "id": "68ab13373678d113",
   "metadata": {},
   "source": [
    "### Loss function"
   ]
  },
  {
   "cell_type": "code",
   "execution_count": 15,
   "id": "b42d4dc70c80667c",
   "metadata": {
    "ExecuteTime": {
     "end_time": "2025-01-04T15:55:21.194698Z",
     "start_time": "2025-01-04T15:55:21.189208Z"
    }
   },
   "outputs": [],
   "source": [
    "def get_loss(model, x_0, t, sqrt_alphas_cumprod, sqrt_one_minus_alphas_cumprod, device,label=None):\n",
    "    x_noisy, noise = forward_diffusion_sample(x_0, t, sqrt_alphas_cumprod, sqrt_one_minus_alphas_cumprod, device)\n",
    "    noise_pred = model(x_noisy, t, label)\n",
    "    return F.mse_loss(noise, noise_pred)"
   ]
  },
  {
   "cell_type": "markdown",
   "id": "421ea89e4c22da8f",
   "metadata": {},
   "source": [
    " tried l1_loss and now mse_loss"
   ]
  },
  {
   "cell_type": "markdown",
   "id": "8316b681720103ce",
   "metadata": {},
   "source": [
    "### sampling"
   ]
  },
  {
   "cell_type": "code",
   "execution_count": 16,
   "id": "ca6d40d3ef50135",
   "metadata": {
    "ExecuteTime": {
     "end_time": "2025-01-04T15:55:21.209961Z",
     "start_time": "2025-01-04T15:55:21.194698Z"
    }
   },
   "outputs": [],
   "source": [
    "@torch.no_grad() # to prevent memory out of bounds\n",
    "def sample_timestep(x, t,sqrt_one_minus_alphas_cumprod, sqrt_recip_alphas, betas, model, posterior_variance,y=None):\n",
    "    \"\"\"\n",
    "    Calls the model to predict the noise in the image and returns \n",
    "    the denoised image. \n",
    "    Applies noise to this image, if we are not in the last step yet.\n",
    "    \"\"\"\n",
    "    \n",
    "    betas_t = get_index_from_list(betas, t, x.shape)\n",
    "    sqrt_one_minus_alphas_cumprod_t = get_index_from_list(\n",
    "        sqrt_one_minus_alphas_cumprod, t, x.shape\n",
    "    )\n",
    "    sqrt_recip_alphas_t = get_index_from_list(sqrt_recip_alphas, t, x.shape)\n",
    "    \n",
    "    # Call model (current image - noise prediction)\n",
    "    model_mean = sqrt_recip_alphas_t * (\n",
    "        x - betas_t * model(x, t, y) / sqrt_one_minus_alphas_cumprod_t + 1e-5\n",
    "    ) # 1e-5 is added to prevent division by zero\n",
    "    posterior_variance_t = get_index_from_list(posterior_variance, t, x.shape)\n",
    "    \n",
    "    if t.item() == 0:\n",
    "        # The t's are offset from the t's in the paper https://arxiv.org/pdf/2006.11239\n",
    "        return model_mean\n",
    "    else:\n",
    "        noise = torch.randn_like(x)\n",
    "        return model_mean + torch.sqrt(posterior_variance_t) * noise \n",
    "\n",
    "@torch.no_grad()\n",
    "def sample_plot_image(T, sqrt_one_minus_alphas_cumprod, sqrt_recip_alphas,\n",
    "                     betas, model, posterior_variance, num_classes=None, labels_default:list=None, visualize=True, save=False):\n",
    "    # Sample random noise\n",
    "    img = torch.randn((1, 3, 32, 32), device=device)\n",
    "\n",
    "    num_images = 10\n",
    "    stepsize = int(T/num_images)\n",
    "    generated_images = []\n",
    "\n",
    "    if num_classes is None:\n",
    "        if visualize:\n",
    "            plt.figure(figsize=(15,15))\n",
    "            plt.axis('off')\n",
    "\n",
    "        for i in range(0, T)[::-1]: # Iterates over T to 0, because the diffusion process goes backwards\n",
    "            t = torch.full((1,), i, device=device, dtype=torch.long)\n",
    "            img = sample_timestep(\n",
    "                img, t,\n",
    "                sqrt_one_minus_alphas_cumprod,\n",
    "                sqrt_recip_alphas,\n",
    "                betas, model,\n",
    "                posterior_variance,\n",
    "                y=None\n",
    "            )\n",
    "            \n",
    "            if i % stepsize == 0:\n",
    "                if visualize:\n",
    "                    plt.subplot(1, num_images, int(i/stepsize)+1)\n",
    "                    plt.imshow(denormalize_and_to_numpy(img[0]))\n",
    "                    plt.axis('off')\n",
    "                    \n",
    "        if visualize:\n",
    "            plt.imshow(denormalize_and_to_numpy(img[0]))\n",
    "            plt.axis('off')\n",
    "            plt.show()\n",
    "        \n",
    "        generated_unconditional = [img.clone(),None]\n",
    "        generated_images.append(generated_unconditional)\n",
    "\n",
    "    else:\n",
    "        for label in range(num_classes):\n",
    "            # Skip labels that are not in the default list\n",
    "            if labels_default is not None and label not in labels_default:\n",
    "                continue\n",
    "                \n",
    "            # for each label, generate new image\n",
    "            img = torch.randn((1, 3, 32, 32), device=device)\n",
    "\n",
    "            if visualize:\n",
    "                plt.figure(figsize=(15,15))\n",
    "                plt.axis('off')\n",
    "\n",
    "            y = torch.tensor([label], dtype=torch.long, device=device)\n",
    "                \n",
    "            for i in range(0, T)[::-1]: # Iterates over T to 0, because the diffusion process goes backwards\n",
    "                t = torch.full((1,), i, device=device, dtype=torch.long)\n",
    "                img = sample_timestep(\n",
    "                    img, t,\n",
    "                    sqrt_one_minus_alphas_cumprod,\n",
    "                    sqrt_recip_alphas,\n",
    "                    betas, model,\n",
    "                    posterior_variance,\n",
    "                    y=y\n",
    "                )\n",
    "                #img = torch.clamp(img, -1.0, 1.0) TODO: maybe use clamp\n",
    "                \n",
    "                if i % stepsize == 0:\n",
    "                    if visualize:\n",
    "                        plt.subplot(1, num_images, int(i/stepsize)+1)\n",
    "                        plt.imshow(denormalize_and_to_numpy(img[0]))\n",
    "                        plt.axis('off')\n",
    "            \n",
    "            if visualize:\n",
    "                plt.imshow(denormalize_and_to_numpy(img[0]))\n",
    "                plt.axis('off')\n",
    "                plt.show()\n",
    "            \n",
    "            generated_conditional = [img.clone(),y]\n",
    "            generated_images.append(generated_conditional)\n",
    "    \n",
    "    return generated_images"
   ]
  },
  {
   "cell_type": "markdown",
   "id": "80e35465f6aadadf",
   "metadata": {},
   "source": [
    "## overfittest"
   ]
  },
  {
   "cell_type": "code",
   "execution_count": 17,
   "id": "b8f9208c5add2802",
   "metadata": {
    "ExecuteTime": {
     "end_time": "2025-01-04T15:55:22.247062Z",
     "start_time": "2025-01-04T15:55:21.211475Z"
    }
   },
   "outputs": [
    {
     "name": "stderr",
     "output_type": "stream",
     "text": [
      "\u001B[34m\u001B[1mwandb\u001B[0m: Currently logged in as: \u001B[33mfloowbaumgartner\u001B[0m. Use \u001B[1m`wandb login --relogin`\u001B[0m to force relogin\n"
     ]
    },
    {
     "data": {
      "text/html": [
       "Tracking run with wandb version 0.19.1"
      ],
      "text/plain": [
       "<IPython.core.display.HTML object>"
      ]
     },
     "metadata": {},
     "output_type": "display_data"
    },
    {
     "data": {
      "text/html": [
       "Run data is saved locally in <code>/data/code/vdl/wandb/run-20250105_005542-50cfyg48</code>"
      ],
      "text/plain": [
       "<IPython.core.display.HTML object>"
      ]
     },
     "metadata": {},
     "output_type": "display_data"
    },
    {
     "data": {
      "text/html": [
       "Syncing run <strong><a href='https://wandb.ai/floowbaumgartner/simpleDiffusion/runs/50cfyg48' target=\"_blank\">OverfitOneImage_lr1e-3_tdim128_t100</a></strong> to <a href='https://wandb.ai/floowbaumgartner/simpleDiffusion' target=\"_blank\">Weights & Biases</a> (<a href='https://wandb.me/developer-guide' target=\"_blank\">docs</a>)<br>"
      ],
      "text/plain": [
       "<IPython.core.display.HTML object>"
      ]
     },
     "metadata": {},
     "output_type": "display_data"
    },
    {
     "data": {
      "text/html": [
       " View project at <a href='https://wandb.ai/floowbaumgartner/simpleDiffusion' target=\"_blank\">https://wandb.ai/floowbaumgartner/simpleDiffusion</a>"
      ],
      "text/plain": [
       "<IPython.core.display.HTML object>"
      ]
     },
     "metadata": {},
     "output_type": "display_data"
    },
    {
     "data": {
      "text/html": [
       " View run at <a href='https://wandb.ai/floowbaumgartner/simpleDiffusion/runs/50cfyg48' target=\"_blank\">https://wandb.ai/floowbaumgartner/simpleDiffusion/runs/50cfyg48</a>"
      ],
      "text/plain": [
       "<IPython.core.display.HTML object>"
      ]
     },
     "metadata": {},
     "output_type": "display_data"
    },
    {
     "data": {
      "text/html": [
       "<button onClick=\"this.nextSibling.style.display='block';this.style.display='none';\">Display W&B run</button><iframe src='https://wandb.ai/floowbaumgartner/simpleDiffusion/runs/50cfyg48?jupyter=true' style='border:none;width:100%;height:420px;display:none;'></iframe>"
      ],
      "text/plain": [
       "<wandb.sdk.wandb_run.Run at 0x7a9850140160>"
      ]
     },
     "execution_count": 17,
     "metadata": {},
     "output_type": "execute_result"
    }
   ],
   "source": "wandb.init(project=\"simpleDiffusion\", entity=\"floowbaumgartner\", name=\"OverfitOneImage_lr1e-3_tdim256_t100\")"
  },
  {
   "cell_type": "code",
   "execution_count": 18,
   "id": "2b2fa537d7c7375a",
   "metadata": {
    "ExecuteTime": {
     "end_time": "2025-01-04T15:55:23.158859Z",
     "start_time": "2025-01-04T15:55:22.250103Z"
    }
   },
   "outputs": [],
   "source": [
    "model.to(device)\n",
    "optimizer = torch.optim.Adam(model.parameters(), lr=0.001) #changed from 1e-4\n",
    "epochs = 12_001\n",
    "BATCH_SIZE = 1\n",
    "T = 100 #TODO try 1000"
   ]
  },
  {
   "cell_type": "code",
   "execution_count": 19,
   "id": "7120ada4598a59e1",
   "metadata": {
    "ExecuteTime": {
     "end_time": "2025-01-04T15:55:34.385692Z",
     "start_time": "2025-01-04T15:55:23.159446Z"
    }
   },
   "outputs": [
    {
     "data": {
      "application/vnd.jupyter.widget-view+json": {
       "model_id": "68c43aa18b2841209b623c6fc5d5fdff",
       "version_major": 2,
       "version_minor": 0
      },
      "text/plain": [
       "  0%|          | 0/12001 [00:00<?, ?it/s]"
      ]
     },
     "metadata": {},
     "output_type": "display_data"
    },
    {
     "name": "stdout",
     "output_type": "stream",
     "text": [
      "Epoch 0 Loss: 1.011240005493164\n",
      "Epoch 100 Loss: 0.20258037745952606\n"
     ]
    },
    {
     "name": "stderr",
     "output_type": "stream",
     "text": [
      "/tmp/ipykernel_168/1162404016.py:56: MatplotlibDeprecationWarning: Auto-removal of overlapping axes is deprecated since 3.6 and will be removed two minor releases later; explicitly call ax.remove() as needed.\n",
      "  plt.subplot(1, num_images, int(i/stepsize)+1)\n"
     ]
    },
    {
     "data": {
      "image/png": "[encoded data removed]",
      "text/plain": [
       "<Figure size 1500x1500 with 10 Axes>"
      ]
     },
     "metadata": {},
     "output_type": "display_data"
    },
    {
     "name": "stdout",
     "output_type": "stream",
     "text": [
      "Epoch 200 Loss: 0.17038875818252563\n",
      "Epoch 300 Loss: 0.09505297988653183\n",
      "Epoch 400 Loss: 0.05487224459648132\n",
      "Epoch 500 Loss: 0.07374027371406555\n",
      "Epoch 600 Loss: 0.6053594946861267\n",
      "Epoch 700 Loss: 0.03381185606122017\n",
      "Epoch 800 Loss: 0.05662626773118973\n",
      "Epoch 900 Loss: 0.05576664209365845\n",
      "Epoch 1000 Loss: 0.033742506057024\n"
     ]
    },
    {
     "data": {
      "image/png": "[encoded data removed]",
      "text/plain": [
       "<Figure size 1500x1500 with 10 Axes>"
      ]
     },
     "metadata": {},
     "output_type": "display_data"
    },
    {
     "name": "stdout",
     "output_type": "stream",
     "text": [
      "Epoch 1100 Loss: 0.06651979684829712\n",
      "Epoch 1200 Loss: 0.07342381775379181\n",
      "Epoch 1300 Loss: 0.020660292357206345\n",
      "Epoch 1400 Loss: 0.052144914865493774\n",
      "Epoch 1500 Loss: 0.13698747754096985\n",
      "Epoch 1600 Loss: 0.019638918340206146\n",
      "Epoch 1700 Loss: 0.10310264676809311\n",
      "Epoch 1800 Loss: 0.05932880938053131\n",
      "Epoch 1900 Loss: 0.062321893870830536\n",
      "Epoch 2000 Loss: 0.03961643576622009\n",
      "Epoch 2100 Loss: 0.028186848387122154\n",
      "Epoch 2200 Loss: 0.05606205388903618\n",
      "Epoch 2300 Loss: 0.01913107931613922\n",
      "Epoch 2400 Loss: 0.017588965594768524\n",
      "Epoch 2500 Loss: 0.03295118361711502\n",
      "Epoch 2600 Loss: 0.059272896498441696\n",
      "Epoch 2700 Loss: 0.02307206019759178\n",
      "Epoch 2800 Loss: 0.040743138641119\n",
      "Epoch 2900 Loss: 0.05103498324751854\n",
      "Epoch 3000 Loss: 0.02086414024233818\n",
      "Epoch 3100 Loss: 0.042226746678352356\n",
      "Epoch 3200 Loss: 0.03750544786453247\n",
      "Epoch 3300 Loss: 0.025454912334680557\n",
      "Epoch 3400 Loss: 0.02676103077828884\n",
      "Epoch 3500 Loss: 0.024303888902068138\n",
      "Epoch 3600 Loss: 0.013014918193221092\n",
      "Epoch 3700 Loss: 0.024016445502638817\n",
      "Epoch 3800 Loss: 0.02440067194402218\n",
      "Epoch 3900 Loss: 0.020229065790772438\n",
      "Epoch 4000 Loss: 0.08420264720916748\n",
      "Epoch 4100 Loss: 0.050997477024793625\n",
      "Epoch 4200 Loss: 0.016799408942461014\n",
      "Epoch 4300 Loss: 0.013620423153042793\n",
      "Epoch 4400 Loss: 0.01807725429534912\n",
      "Epoch 4500 Loss: 0.024088626727461815\n",
      "Epoch 4600 Loss: 0.02326265349984169\n",
      "Epoch 4700 Loss: 0.039077334105968475\n",
      "Epoch 4800 Loss: 0.020394131541252136\n",
      "Epoch 4900 Loss: 0.015010630711913109\n",
      "Epoch 5000 Loss: 0.017895754426717758\n"
     ]
    },
    {
     "data": {
      "image/png": "[encoded data removed]",
      "text/plain": [
       "<Figure size 1500x1500 with 10 Axes>"
      ]
     },
     "metadata": {},
     "output_type": "display_data"
    },
    {
     "name": "stdout",
     "output_type": "stream",
     "text": [
      "Epoch 5100 Loss: 0.12562678754329681\n",
      "Epoch 5200 Loss: 0.03418942540884018\n",
      "Epoch 5300 Loss: 0.03862188011407852\n",
      "Epoch 5400 Loss: 0.017557669430971146\n",
      "Epoch 5500 Loss: 0.15711641311645508\n",
      "Epoch 5600 Loss: 0.009126960299909115\n",
      "Epoch 5700 Loss: 0.0123505350202322\n",
      "Epoch 5800 Loss: 0.23171328008174896\n",
      "Epoch 5900 Loss: 0.011375673115253448\n",
      "Epoch 6000 Loss: 0.011945030651986599\n",
      "Epoch 6100 Loss: 0.2133524864912033\n",
      "Epoch 6200 Loss: 0.09477442502975464\n",
      "Epoch 6300 Loss: 0.015922077000141144\n",
      "Epoch 6400 Loss: 0.011788127943873405\n",
      "Epoch 6500 Loss: 0.019432950764894485\n",
      "Epoch 6600 Loss: 0.020711133256554604\n",
      "Epoch 6700 Loss: 0.008376738987863064\n",
      "Epoch 6800 Loss: 0.015895158052444458\n",
      "Epoch 6900 Loss: 0.017366057261824608\n",
      "Epoch 7000 Loss: 0.0218354519456625\n",
      "Epoch 7100 Loss: 0.019910577684640884\n",
      "Epoch 7200 Loss: 0.016910281032323837\n",
      "Epoch 7300 Loss: 0.028049286454916\n",
      "Epoch 7400 Loss: 0.027366485446691513\n",
      "Epoch 7500 Loss: 0.01038830541074276\n",
      "Epoch 7600 Loss: 0.015465344302356243\n",
      "Epoch 7700 Loss: 0.11008308827877045\n",
      "Epoch 7800 Loss: 0.026098251342773438\n",
      "Epoch 7900 Loss: 0.033700793981552124\n",
      "Epoch 8000 Loss: 0.011853373609483242\n",
      "Epoch 8100 Loss: 0.007990041747689247\n",
      "Epoch 8200 Loss: 0.05005568265914917\n",
      "Epoch 8300 Loss: 0.01813444122672081\n",
      "Epoch 8400 Loss: 0.012834600172936916\n",
      "Epoch 8500 Loss: 0.007304945960640907\n",
      "Epoch 8600 Loss: 0.0155862495303154\n",
      "Epoch 8700 Loss: 0.01052897423505783\n",
      "Epoch 8800 Loss: 0.0068781375885009766\n",
      "Epoch 8900 Loss: 0.021545201539993286\n",
      "Epoch 9000 Loss: 0.011976698413491249\n",
      "Epoch 9100 Loss: 0.011060666292905807\n",
      "Epoch 9200 Loss: 0.007848390378057957\n",
      "Epoch 9300 Loss: 0.012598520144820213\n",
      "Epoch 9400 Loss: 0.2776065468788147\n",
      "Epoch 9500 Loss: 0.0099192438647151\n",
      "Epoch 9600 Loss: 0.010261202231049538\n",
      "Epoch 9700 Loss: 0.009900307282805443\n",
      "Epoch 9800 Loss: 0.01783284731209278\n",
      "Epoch 9900 Loss: 0.010313578881323338\n",
      "Epoch 10000 Loss: 0.034917645156383514\n"
     ]
    },
    {
     "data": {
      "image/png": "[encoded data removed]",
      "text/plain": [
       "<Figure size 1500x1500 with 10 Axes>"
      ]
     },
     "metadata": {},
     "output_type": "display_data"
    },
    {
     "name": "stdout",
     "output_type": "stream",
     "text": [
      "Epoch 10100 Loss: 0.011635071597993374\n",
      "Epoch 10200 Loss: 0.0364934466779232\n",
      "Epoch 10300 Loss: 0.0062292288057506084\n",
      "Epoch 10400 Loss: 0.007934215478599072\n",
      "Epoch 10500 Loss: 0.011855311691761017\n",
      "Epoch 10600 Loss: 0.02162412367761135\n",
      "Epoch 10700 Loss: 0.29633116722106934\n",
      "Epoch 10800 Loss: 0.2907845973968506\n",
      "Epoch 10900 Loss: 0.025691132992506027\n",
      "Epoch 11000 Loss: 0.01382286474108696\n",
      "Epoch 11100 Loss: 0.008105253800749779\n",
      "Epoch 11200 Loss: 0.018569447100162506\n",
      "Epoch 11300 Loss: 0.011927849613130093\n",
      "Epoch 11400 Loss: 0.01584916189312935\n",
      "Epoch 11500 Loss: 0.012641651555895805\n",
      "Epoch 11600 Loss: 0.006466337945312262\n",
      "Epoch 11700 Loss: 0.023861123248934746\n",
      "Epoch 11800 Loss: 0.006384874694049358\n",
      "Epoch 11900 Loss: 0.0066765835508704185\n",
      "Epoch 12000 Loss: 0.007618659641593695\n"
     ]
    },
    {
     "data": {
      "text/html": [],
      "text/plain": [
       "<IPython.core.display.HTML object>"
      ]
     },
     "metadata": {},
     "output_type": "display_data"
    },
    {
     "data": {
      "text/html": [
       "<br>    <style><br>        .wandb-row {<br>            display: flex;<br>            flex-direction: row;<br>            flex-wrap: wrap;<br>            justify-content: flex-start;<br>            width: 100%;<br>        }<br>        .wandb-col {<br>            display: flex;<br>            flex-direction: column;<br>            flex-basis: 100%;<br>            flex: 1;<br>            padding: 10px;<br>        }<br>    </style><br><div class=\"wandb-row\"><div class=\"wandb-col\"><h3>Run history:</h3><br/><table class=\"wandb\"><tr><td>epoch</td><td>▁▂▄█</td></tr><tr><td>loss</td><td>█▂▁▂</td></tr></table><br/></div><div class=\"wandb-col\"><h3>Run summary:</h3><br/><table class=\"wandb\"><tr><td>epoch</td><td>10000</td></tr><tr><td>loss</td><td>0.03492</td></tr></table><br/></div></div>"
      ],
      "text/plain": [
       "<IPython.core.display.HTML object>"
      ]
     },
     "metadata": {},
     "output_type": "display_data"
    },
    {
     "data": {
      "text/html": [
       " View run <strong style=\"color:#cdcd00\">OverfitOneImage_lr1e-3_tdim128_t100</strong> at: <a href='https://wandb.ai/floowbaumgartner/simpleDiffusion/runs/50cfyg48' target=\"_blank\">https://wandb.ai/floowbaumgartner/simpleDiffusion/runs/50cfyg48</a><br> View project at: <a href='https://wandb.ai/floowbaumgartner/simpleDiffusion' target=\"_blank\">https://wandb.ai/floowbaumgartner/simpleDiffusion</a><br>Synced 5 W&B file(s), 0 media file(s), 0 artifact file(s) and 0 other file(s)"
      ],
      "text/plain": [
       "<IPython.core.display.HTML object>"
      ]
     },
     "metadata": {},
     "output_type": "display_data"
    },
    {
     "data": {
      "text/html": [
       "Find logs at: <code>./wandb/run-20250105_005542-50cfyg48/logs</code>"
      ],
      "text/plain": [
       "<IPython.core.display.HTML object>"
      ]
     },
     "metadata": {},
     "output_type": "display_data"
    }
   ],
   "source": [
    "loss_history = []\n",
    "\n",
    "for epoch in tqdm(range(epochs)):\n",
    "    optimizer.zero_grad()\n",
    "    t = torch.randint(0, T, (BATCH_SIZE,), device=device).long()\n",
    "    loss = get_loss(model, images_overfit, t, terms[\"sqrt_alphas_cumprod\"], terms[\"sqrt_one_minus_alphas_cumprod\"], device)\n",
    "    loss.backward()\n",
    "    optimizer.step()\n",
    "    loss_history.append(loss.item())\n",
    "\n",
    "    if epoch % 100 == 0:\n",
    "        print(f\"Epoch {epoch} Loss: {loss.item()}\")\n",
    "        \n",
    "        if epoch in {100, 1000, 5000, 10_000, 12_000}:\n",
    "            with torch.no_grad():\n",
    "                x_gen = sample_plot_image(T,terms[\"sqrt_one_minus_alphas_cumprod\"], terms[\"sqrt_recip_alphas\"], betas, model, terms[\"posterior_variance\"])\n",
    "                \n",
    "                wandb.log({\n",
    "                \"epoch\": epoch,\n",
    "                \"loss\": loss.item(),\n",
    "            })\n",
    "            \n",
    "wandb.finish()"
   ]
  },
  {
   "cell_type": "code",
   "execution_count": 20,
   "id": "59637aa0d9b89388",
   "metadata": {
    "ExecuteTime": {
     "end_time": "2025-01-04T15:55:34.558160Z",
     "start_time": "2025-01-04T15:55:34.385692Z"
    }
   },
   "outputs": [
    {
     "data": {
      "image/png": "[encoded data removed]",
      "text/plain": [
       "<Figure size 800x500 with 1 Axes>"
      ]
     },
     "metadata": {},
     "output_type": "display_data"
    }
   ],
   "source": [
    "def plot_loss(loss_history):\n",
    "    plt.figure(figsize=(8, 5))\n",
    "    plt.plot(loss_history, label=\"Training Loss\")\n",
    "    plt.xlabel(\"Epoch\")\n",
    "    plt.ylabel(\"Loss\")\n",
    "    plt.title(\"Verlauf des Train-losses\")\n",
    "    plt.legend()\n",
    "    plt.show()\n",
    "    \n",
    "plot_loss(loss_history)"
   ]
  },
  {
   "cell_type": "markdown",
   "id": "f80198b8181d3526",
   "metadata": {},
   "source": [
    "### visualize generated images and compare to original"
   ]
  },
  {
   "cell_type": "code",
   "execution_count": 21,
   "id": "43d5bad328abd412",
   "metadata": {
    "ExecuteTime": {
     "end_time": "2025-01-04T15:55:34.567196Z",
     "start_time": "2025-01-04T15:55:34.558160Z"
    }
   },
   "outputs": [],
   "source": [
    "def compare_images(original, generated):\n",
    "    \"\"\"\n",
    "    Zeigt Original und generiertes Bild nebeneinander in einem Plot an.\n",
    "    original, generated: Tensors mit Shape (C, H, W)\n",
    "    \"\"\"\n",
    "    orig_np = denormalize_and_to_numpy(original)\n",
    "    gen_np = denormalize_and_to_numpy(generated)\n",
    "    \n",
    "    fig, axs = plt.subplots(1, 2, figsize=(8, 4))\n",
    "    axs[0].imshow(orig_np)\n",
    "    axs[0].set_title(\"Original\")\n",
    "    axs[0].axis(\"off\")\n",
    "    \n",
    "    axs[1].imshow(gen_np)\n",
    "    axs[1].set_title(\"Generated\")\n",
    "    axs[1].axis(\"off\")\n",
    "    \n",
    "    plt.show()"
   ]
  },
  {
   "cell_type": "code",
   "execution_count": 22,
   "id": "c7c524a8cb2af07",
   "metadata": {
    "ExecuteTime": {
     "end_time": "2025-01-04T15:55:34.706293Z",
     "start_time": "2025-01-04T15:55:34.567922Z"
    }
   },
   "outputs": [
    {
     "data": {
      "image/png": "[encoded data removed]",
      "text/plain": [
       "<Figure size 800x400 with 2 Axes>"
      ]
     },
     "metadata": {},
     "output_type": "display_data"
    }
   ],
   "source": [
    "compare_images(images_overfit[0], x_gen[0][0].squeeze())"
   ]
  },
  {
   "cell_type": "code",
   "execution_count": 23,
   "id": "540c025e32a9e44",
   "metadata": {
    "ExecuteTime": {
     "end_time": "2025-01-04T15:55:34.713062Z",
     "start_time": "2025-01-04T15:55:34.706293Z"
    }
   },
   "outputs": [],
   "source": [
    "#TODO:take original image and generated image and calculate FID score"
   ]
  },
  {
   "cell_type": "markdown",
   "id": "a87fd2fb92778d9c",
   "metadata": {},
   "source": [
    "### conclusion\n",
    "mit batchnorm wurde das bild mit der Zeit mit einem bestimmten farbton versehen (ab epoche 1000) mit groupnorm konnte ich das leider auch nicht verhindern, jedoch die genauigkeit der pixel wurde insgesamt besser (bis epoche 10'000). Was auffällt ist, dass die groupnorm bei den ersten schritten ein viel knalligeres bild erzeugt, als mit der batchnorm. Nach einigen hundert, gleicht es sich dann aus. Die groupnorm performt aber dann wieder bei hohen epochen (30'000) besser, es kommt zu originalen farben besser hin."
   ]
  },
  {
   "cell_type": "markdown",
   "id": "b7101f3676c45057",
   "metadata": {},
   "source": [
    "## train on full data from one label"
   ]
  },
  {
   "cell_type": "code",
   "execution_count": 24,
   "id": "2ca71bce99211ef",
   "metadata": {
    "ExecuteTime": {
     "end_time": "2025-01-04T15:55:35.126864Z",
     "start_time": "2025-01-04T15:55:34.713062Z"
    }
   },
   "outputs": [
    {
     "name": "stdout",
     "output_type": "stream",
     "text": [
      "Num params:  62730819\n"
     ]
    },
    {
     "data": {
      "text/plain": [
       "SimpleUnet(\n",
       "  (time_mlp): Sequential(\n",
       "    (0): SinusoidalPositionEmbeddings()\n",
       "    (1): Linear(in_features=128, out_features=128, bias=True)\n",
       "    (2): SiLU()\n",
       "  )\n",
       "  (conv0): Conv2d(3, 64, kernel_size=(3, 3), stride=(1, 1), padding=(1, 1))\n",
       "  (downs): ModuleList(\n",
       "    (0): Block(\n",
       "      (time_mlp): Linear(in_features=128, out_features=128, bias=True)\n",
       "      (conv1): Conv2d(64, 128, kernel_size=(3, 3), stride=(1, 1), padding=(1, 1))\n",
       "      (transform): Conv2d(128, 128, kernel_size=(4, 4), stride=(2, 2), padding=(1, 1))\n",
       "      (conv2): Conv2d(128, 128, kernel_size=(3, 3), stride=(1, 1), padding=(1, 1))\n",
       "      (gnorm1): GroupNorm(32, 128, eps=1e-05, affine=True)\n",
       "      (gnorm2): GroupNorm(32, 128, eps=1e-05, affine=True)\n",
       "      (relu): ReLU()\n",
       "    )\n",
       "    (1): Block(\n",
       "      (time_mlp): Linear(in_features=128, out_features=256, bias=True)\n",
       "      (conv1): Conv2d(128, 256, kernel_size=(3, 3), stride=(1, 1), padding=(1, 1))\n",
       "      (transform): Conv2d(256, 256, kernel_size=(4, 4), stride=(2, 2), padding=(1, 1))\n",
       "      (conv2): Conv2d(256, 256, kernel_size=(3, 3), stride=(1, 1), padding=(1, 1))\n",
       "      (gnorm1): GroupNorm(32, 256, eps=1e-05, affine=True)\n",
       "      (gnorm2): GroupNorm(32, 256, eps=1e-05, affine=True)\n",
       "      (relu): ReLU()\n",
       "    )\n",
       "    (2): Block(\n",
       "      (time_mlp): Linear(in_features=128, out_features=512, bias=True)\n",
       "      (conv1): Conv2d(256, 512, kernel_size=(3, 3), stride=(1, 1), padding=(1, 1))\n",
       "      (transform): Conv2d(512, 512, kernel_size=(4, 4), stride=(2, 2), padding=(1, 1))\n",
       "      (conv2): Conv2d(512, 512, kernel_size=(3, 3), stride=(1, 1), padding=(1, 1))\n",
       "      (gnorm1): GroupNorm(32, 512, eps=1e-05, affine=True)\n",
       "      (gnorm2): GroupNorm(32, 512, eps=1e-05, affine=True)\n",
       "      (relu): ReLU()\n",
       "    )\n",
       "    (3): Block(\n",
       "      (time_mlp): Linear(in_features=128, out_features=1024, bias=True)\n",
       "      (conv1): Conv2d(512, 1024, kernel_size=(3, 3), stride=(1, 1), padding=(1, 1))\n",
       "      (transform): Conv2d(1024, 1024, kernel_size=(4, 4), stride=(2, 2), padding=(1, 1))\n",
       "      (conv2): Conv2d(1024, 1024, kernel_size=(3, 3), stride=(1, 1), padding=(1, 1))\n",
       "      (gnorm1): GroupNorm(32, 1024, eps=1e-05, affine=True)\n",
       "      (gnorm2): GroupNorm(32, 1024, eps=1e-05, affine=True)\n",
       "      (relu): ReLU()\n",
       "    )\n",
       "  )\n",
       "  (ups): ModuleList(\n",
       "    (0): Block(\n",
       "      (time_mlp): Linear(in_features=128, out_features=512, bias=True)\n",
       "      (conv1): Conv2d(2048, 512, kernel_size=(3, 3), stride=(1, 1), padding=(1, 1))\n",
       "      (transform): ConvTranspose2d(512, 512, kernel_size=(4, 4), stride=(2, 2), padding=(1, 1))\n",
       "      (conv2): Conv2d(512, 512, kernel_size=(3, 3), stride=(1, 1), padding=(1, 1))\n",
       "      (gnorm1): GroupNorm(32, 512, eps=1e-05, affine=True)\n",
       "      (gnorm2): GroupNorm(32, 512, eps=1e-05, affine=True)\n",
       "      (relu): ReLU()\n",
       "    )\n",
       "    (1): Block(\n",
       "      (time_mlp): Linear(in_features=128, out_features=256, bias=True)\n",
       "      (conv1): Conv2d(1024, 256, kernel_size=(3, 3), stride=(1, 1), padding=(1, 1))\n",
       "      (transform): ConvTranspose2d(256, 256, kernel_size=(4, 4), stride=(2, 2), padding=(1, 1))\n",
       "      (conv2): Conv2d(256, 256, kernel_size=(3, 3), stride=(1, 1), padding=(1, 1))\n",
       "      (gnorm1): GroupNorm(32, 256, eps=1e-05, affine=True)\n",
       "      (gnorm2): GroupNorm(32, 256, eps=1e-05, affine=True)\n",
       "      (relu): ReLU()\n",
       "    )\n",
       "    (2): Block(\n",
       "      (time_mlp): Linear(in_features=128, out_features=128, bias=True)\n",
       "      (conv1): Conv2d(512, 128, kernel_size=(3, 3), stride=(1, 1), padding=(1, 1))\n",
       "      (transform): ConvTranspose2d(128, 128, kernel_size=(4, 4), stride=(2, 2), padding=(1, 1))\n",
       "      (conv2): Conv2d(128, 128, kernel_size=(3, 3), stride=(1, 1), padding=(1, 1))\n",
       "      (gnorm1): GroupNorm(32, 128, eps=1e-05, affine=True)\n",
       "      (gnorm2): GroupNorm(32, 128, eps=1e-05, affine=True)\n",
       "      (relu): ReLU()\n",
       "    )\n",
       "    (3): Block(\n",
       "      (time_mlp): Linear(in_features=128, out_features=64, bias=True)\n",
       "      (conv1): Conv2d(256, 64, kernel_size=(3, 3), stride=(1, 1), padding=(1, 1))\n",
       "      (transform): ConvTranspose2d(64, 64, kernel_size=(4, 4), stride=(2, 2), padding=(1, 1))\n",
       "      (conv2): Conv2d(64, 64, kernel_size=(3, 3), stride=(1, 1), padding=(1, 1))\n",
       "      (gnorm1): GroupNorm(32, 64, eps=1e-05, affine=True)\n",
       "      (gnorm2): GroupNorm(32, 64, eps=1e-05, affine=True)\n",
       "      (relu): ReLU()\n",
       "    )\n",
       "  )\n",
       "  (output): Conv2d(64, 3, kernel_size=(1, 1), stride=(1, 1))\n",
       ")"
      ]
     },
     "execution_count": 24,
     "metadata": {},
     "output_type": "execute_result"
    }
   ],
   "source": [
    "model_simpleU = SimpleUnet()\n",
    "print(\"Num params: \", sum(p.numel() for p in model_simpleU.parameters()))\n",
    "model_simpleU"
   ]
  },
  {
   "cell_type": "code",
   "execution_count": 25,
   "id": "d9785e646eea2ee3",
   "metadata": {
    "ExecuteTime": {
     "end_time": "2025-01-04T15:55:35.193668Z",
     "start_time": "2025-01-04T15:55:35.127883Z"
    }
   },
   "outputs": [],
   "source": [
    "T = 100\n",
    "betas = linear_beta_schedule(timesteps=T)\n",
    "terms = precompute_terms(betas)\n",
    "model_simpleU.to(device)\n",
    "optimizer = torch.optim.Adam(model_simpleU.parameters(), lr=0.001)\n",
    "epochs = 1_001\n",
    "BATCH_SIZE = 128"
   ]
  },
  {
   "cell_type": "code",
   "execution_count": 26,
   "id": "29842733a5393619",
   "metadata": {
    "ExecuteTime": {
     "end_time": "2025-01-04T15:55:45.682076Z",
     "start_time": "2025-01-04T15:55:35.193668Z"
    }
   },
   "outputs": [
    {
     "name": "stdout",
     "output_type": "stream",
     "text": [
      "Number of images in label 1 from trainset: 5000\n"
     ]
    }
   ],
   "source": [
    "train_1label =get_images_by_label(trainset, 1, 5_000)\n",
    "print(f\"Number of images in label 1 from trainset: {len(train_1label)}\")\n",
    "\n",
    "#init dataloader\n",
    "trainloader_1label = torch.utils.data.DataLoader(train_1label, batch_size=BATCH_SIZE, shuffle=True, drop_last=True)"
   ]
  },
  {
   "cell_type": "code",
   "execution_count": 27,
   "id": "c6c5cca2-5409-4f99-a898-c0c85f9645a4",
   "metadata": {
    "ExecuteTime": {
     "end_time": "2025-01-04T15:55:46.896256Z",
     "start_time": "2025-01-04T15:55:45.682076Z"
    }
   },
   "outputs": [
    {
     "data": {
      "text/html": [
       "Tracking run with wandb version 0.19.1"
      ],
      "text/plain": [
       "<IPython.core.display.HTML object>"
      ]
     },
     "metadata": {},
     "output_type": "display_data"
    },
    {
     "data": {
      "text/html": [
       "Run data is saved locally in <code>/data/code/vdl/wandb/run-20250105_005929-ydbjlbxz</code>"
      ],
      "text/plain": [
       "<IPython.core.display.HTML object>"
      ]
     },
     "metadata": {},
     "output_type": "display_data"
    },
    {
     "data": {
      "text/html": [
       "Syncing run <strong><a href='https://wandb.ai/floowbaumgartner/simpleDiffusion/runs/ydbjlbxz' target=\"_blank\">one_label_bs64_lr1e-3_tdim128_t100</a></strong> to <a href='https://wandb.ai/floowbaumgartner/simpleDiffusion' target=\"_blank\">Weights & Biases</a> (<a href='https://wandb.me/developer-guide' target=\"_blank\">docs</a>)<br>"
      ],
      "text/plain": [
       "<IPython.core.display.HTML object>"
      ]
     },
     "metadata": {},
     "output_type": "display_data"
    },
    {
     "data": {
      "text/html": [
       " View project at <a href='https://wandb.ai/floowbaumgartner/simpleDiffusion' target=\"_blank\">https://wandb.ai/floowbaumgartner/simpleDiffusion</a>"
      ],
      "text/plain": [
       "<IPython.core.display.HTML object>"
      ]
     },
     "metadata": {},
     "output_type": "display_data"
    },
    {
     "data": {
      "text/html": [
       " View run at <a href='https://wandb.ai/floowbaumgartner/simpleDiffusion/runs/ydbjlbxz' target=\"_blank\">https://wandb.ai/floowbaumgartner/simpleDiffusion/runs/ydbjlbxz</a>"
      ],
      "text/plain": [
       "<IPython.core.display.HTML object>"
      ]
     },
     "metadata": {},
     "output_type": "display_data"
    },
    {
     "data": {
      "text/html": [
       "<button onClick=\"this.nextSibling.style.display='block';this.style.display='none';\">Display W&B run</button><iframe src='https://wandb.ai/floowbaumgartner/simpleDiffusion/runs/ydbjlbxz?jupyter=true' style='border:none;width:100%;height:420px;display:none;'></iframe>"
      ],
      "text/plain": [
       "<wandb.sdk.wandb_run.Run at 0x7a982ed6a6b0>"
      ]
     },
     "execution_count": 27,
     "metadata": {},
     "output_type": "execute_result"
    }
   ],
   "source": "wandb.init(project=\"simpleDiffusion\", entity=\"floowbaumgartner\", name=\"one_label_bs128_lr1e-3_tdim256_t100\")"
  },
  {
   "cell_type": "code",
   "execution_count": null,
   "id": "2d01875ea52a2f37",
   "metadata": {
    "ExecuteTime": {
     "end_time": "2025-01-04T15:56:01.506791Z",
     "start_time": "2025-01-04T15:55:46.898939Z"
    }
   },
   "outputs": [
    {
     "data": {
      "application/vnd.jupyter.widget-view+json": {
       "model_id": "c7702dc5b62749168b9f15ca3541672d",
       "version_major": 2,
       "version_minor": 0
      },
      "text/plain": [
       "  0%|          | 0/1001 [00:00<?, ?it/s]"
      ]
     },
     "metadata": {},
     "output_type": "display_data"
    },
    {
     "name": "stdout",
     "output_type": "stream",
     "text": [
      "Epoch 0 Loss: 0.212141215801239\n",
      "Epoch 10 Loss: 0.13905182480812073\n"
     ]
    },
    {
     "name": "stderr",
     "output_type": "stream",
     "text": [
      "/tmp/ipykernel_168/1162404016.py:56: MatplotlibDeprecationWarning: Auto-removal of overlapping axes is deprecated since 3.6 and will be removed two minor releases later; explicitly call ax.remove() as needed.\n",
      "  plt.subplot(1, num_images, int(i/stepsize)+1)\n"
     ]
    },
    {
     "data": {
      "image/png": "[encoded data removed]",
      "text/plain": [
       "<Figure size 1500x1500 with 10 Axes>"
      ]
     },
     "metadata": {},
     "output_type": "display_data"
    }
   ],
   "source": [
    "loss_history_1label = []\n",
    "\n",
    "for epoch in tqdm(range(epochs)):\n",
    "    model_simpleU.train()\n",
    "    for i, data in enumerate(trainloader_1label):\n",
    "        optimizer.zero_grad()\n",
    "        t = torch.randint(0, T, (BATCH_SIZE,), device=device).long()\n",
    "        loss = get_loss(model_simpleU, data, t, terms[\"sqrt_alphas_cumprod\"], terms[\"sqrt_one_minus_alphas_cumprod\"], device)\n",
    "        loss.backward()\n",
    "        optimizer.step()\n",
    "        loss_history_1label.append(loss.item())\n",
    "        \n",
    "    if epoch % 10 == 0:\n",
    "        print(f\"Epoch {epoch} Loss: {loss.item()}\")\n",
    "        \n",
    "        if epoch in {10, 50, 70, 90, 100, 200, 290, 300, 500, 800, 900, 990, 1000}:\n",
    "            with torch.no_grad():\n",
    "                x_gen = sample_plot_image(T,terms[\"sqrt_one_minus_alphas_cumprod\"], terms[\"sqrt_recip_alphas\"], betas, model_simpleU, terms[\"posterior_variance\"])\n",
    "                \n",
    "        wandb.log({\n",
    "        \"epoch\": epoch,\n",
    "        \"loss\": loss.item(),\n",
    "    })\n",
    "                \n",
    "wandb.finish()"
   ]
  },
  {
   "cell_type": "code",
   "execution_count": null,
   "id": "6dd0d9b069a94df3",
   "metadata": {
    "ExecuteTime": {
     "end_time": "2025-01-04T15:56:01.688764Z",
     "start_time": "2025-01-04T15:56:01.506791Z"
    }
   },
   "outputs": [],
   "source": [
    "plot_loss(loss_history_1label)"
   ]
  },
  {
   "cell_type": "markdown",
   "id": "d213f8391eafe8a9",
   "metadata": {},
   "source": [
    "### visualize generated images and compare to original"
   ]
  },
  {
   "cell_type": "code",
   "execution_count": null,
   "id": "5c8a9223dd827555",
   "metadata": {
    "ExecuteTime": {
     "end_time": "2025-01-04T15:56:01.817185Z",
     "start_time": "2025-01-04T15:56:01.693919Z"
    }
   },
   "outputs": [],
   "source": [
    "compare_images(train_1label[0], x_gen[0][0].squeeze())"
   ]
  },
  {
   "cell_type": "code",
   "execution_count": null,
   "id": "28bc6934-d996-455e-8531-63c92a94f15c",
   "metadata": {
    "ExecuteTime": {
     "end_time": "2025-01-04T15:56:07.973854Z",
     "start_time": "2025-01-04T15:56:01.817185Z"
    }
   },
   "outputs": [],
   "source": [
    "x_gen_1label_list = []\n",
    "with torch.no_grad():\n",
    "    for i in range(5):\n",
    "        x_gen_1label = sample_plot_image(T,terms[\"sqrt_one_minus_alphas_cumprod\"], terms[\"sqrt_recip_alphas\"], betas, model_simpleU, terms[\"posterior_variance\"], visualize=False)\n",
    "        x_gen_1label_list.append(x_gen_1label)\n",
    "\n",
    "for x_gen in x_gen_1label_list:\n",
    "    compare_images(train_1label[0], x_gen[0][0].squeeze())"
   ]
  },
  {
   "cell_type": "markdown",
   "id": "fa822d4366797642",
   "metadata": {},
   "source": [
    "### FID Score"
   ]
  },
  {
   "cell_type": "code",
   "execution_count": null,
   "id": "bf7414389f1f7430",
   "metadata": {
    "ExecuteTime": {
     "end_time": "2025-01-04T15:56:07.983725Z",
     "start_time": "2025-01-04T15:56:07.976503Z"
    }
   },
   "outputs": [],
   "source": [
    "gen_1label_dir = './data/generated_1label'\n",
    "real_1label_dir = './data/real_1label'\n",
    "os.makedirs(gen_1label_dir, exist_ok=True)\n",
    "os.makedirs(real_1label_dir, exist_ok=True)"
   ]
  },
  {
   "cell_type": "code",
   "execution_count": null,
   "id": "cfa63cd25cd376f9",
   "metadata": {
    "ExecuteTime": {
     "end_time": "2025-01-04T16:15:26.514810Z",
     "start_time": "2025-01-04T16:15:26.500974Z"
    }
   },
   "outputs": [],
   "source": [
    "def save_gen_imgs(gen_dir,gen_images,name:str,label=None): \n",
    "    for i in range(len(gen_images)):\n",
    "        for x_gen in gen_images:\n",
    "            x_gen = denormalize_and_to_numpy(x_gen[i][0].squeeze())\n",
    "            x_gen = torch.tensor(x_gen).permute(2,0,1)\n",
    "            \n",
    "            if label is not None:\n",
    "                gen_dir = os.path.join(gen_dir, f'label_{label}')\n",
    "                os.makedirs(gen_dir, exist_ok=True)\n",
    "                \n",
    "            vutils.save_image(\n",
    "                x_gen, \n",
    "                os.path.join(gen_dir, f'gen_{name}.png')\n",
    "            )\n",
    "            "
   ]
  },
  {
   "cell_type": "code",
   "execution_count": null,
   "id": "5ee7c133ffc2ad1e",
   "metadata": {
    "ExecuteTime": {
     "end_time": "2025-01-04T15:56:17.971604Z",
     "start_time": "2025-01-04T15:56:07.993289Z"
    }
   },
   "outputs": [],
   "source": [
    "num_gen_imgs = 1_000\n",
    "\n",
    "# Generate and save images\n",
    "with torch.no_grad():\n",
    "    for i in range(num_gen_imgs):\n",
    "        x_gen_1label = sample_plot_image(T,terms[\"sqrt_one_minus_alphas_cumprod\"], terms[\"sqrt_recip_alphas\"], betas, model_simpleU, terms[\"posterior_variance\"], visualize=False)\n",
    "        save_gen_imgs(gen_1label_dir, x_gen_1label, i)"
   ]
  },
  {
   "cell_type": "code",
   "execution_count": null,
   "id": "74704cfa8bb04ddf",
   "metadata": {
    "ExecuteTime": {
     "end_time": "2025-01-04T15:56:19.285739Z",
     "start_time": "2025-01-04T15:56:17.971604Z"
    }
   },
   "outputs": [],
   "source": [
    "testset = torchvision.datasets.CIFAR10(root='./data',train=False,download=True,transform=transform)"
   ]
  },
  {
   "cell_type": "code",
   "execution_count": null,
   "id": "1cc43d56058234fd",
   "metadata": {
    "ExecuteTime": {
     "end_time": "2025-01-04T15:56:19.295593Z",
     "start_time": "2025-01-04T15:56:19.285739Z"
    }
   },
   "outputs": [],
   "source": [
    "# select the same label for the testset because the model was trained on this label\n",
    "selected_label = 0\n",
    "\n",
    "# find Indices of the label in testset\n",
    "selected_indices = [i for i, label in enumerate(testset.targets) if label == selected_label]\n",
    "\n",
    "# make subset\n",
    "testset_1label = Subset(testset, selected_indices)"
   ]
  },
  {
   "cell_type": "code",
   "execution_count": null,
   "id": "25baf5205cf4824d",
   "metadata": {
    "ExecuteTime": {
     "end_time": "2025-01-04T15:56:19.333779Z",
     "start_time": "2025-01-04T15:56:19.295593Z"
    }
   },
   "outputs": [],
   "source": [
    "#save real images\n",
    "# for i in range(num_gen_imgs):\n",
    "#    img, label = testset_1label[i]\n",
    "#    vutils.save_image(\n",
    "#        img, \n",
    "#        os.path.join(real_1label_dir, f'real_{i}.png')\n",
    "#    )"
   ]
  },
  {
   "cell_type": "code",
   "execution_count": null,
   "id": "82516dae329ccf62",
   "metadata": {
    "ExecuteTime": {
     "end_time": "2025-01-04T15:56:19.344057Z",
     "start_time": "2025-01-04T15:56:19.335313Z"
    }
   },
   "outputs": [],
   "source": [
    "def calc_fid(real_dir, gen_dir):\n",
    "    #calc fid score\n",
    "    metrics_dict = calculate_metrics(\n",
    "        input1=real_dir,\n",
    "        input2=gen_dir,\n",
    "        cuda=torch.cuda.is_available(),  \n",
    "        isc=False,  # Inception Score not needed\n",
    "        fid=True,   # FID needed\n",
    "        kid=False,  \n",
    "        verbose=True\n",
    "    )\n",
    "    \n",
    "    print(\"FID Score:\", metrics_dict[\"frechet_inception_distance\"])\n"
   ]
  },
  {
   "cell_type": "code",
   "execution_count": null,
   "id": "3c56cb0fecbceb68",
   "metadata": {
    "ExecuteTime": {
     "end_time": "2025-01-04T15:56:50.014752Z",
     "start_time": "2025-01-04T15:56:19.348872Z"
    }
   },
   "outputs": [],
   "source": [
    "calc_fid(real_1label_dir, gen_1label_dir)"
   ]
  },
  {
   "cell_type": "code",
   "execution_count": null,
   "id": "1a25a7075808efc7",
   "metadata": {
    "ExecuteTime": {
     "end_time": "2025-01-04T15:56:50.021495Z",
     "start_time": "2025-01-04T15:56:50.015768Z"
    }
   },
   "outputs": [],
   "source": [
    "# TODO: FID Score\n",
    "# TODO: ACHTUNG! testdaten enthalten alle labels, daher ist der FID score nicht aussagekräftig\n",
    "# x_test_filtered = x_test[y_test.flatten() == selected_label]\n",
    "# y_test_filtered = y_test[y_test.flatten() == selected_label]"
   ]
  },
  {
   "cell_type": "markdown",
   "id": "15f312b845503208",
   "metadata": {},
   "source": [
    "### conclusion"
   ]
  },
  {
   "cell_type": "code",
   "execution_count": null,
   "id": "442bb49bc97927c4",
   "metadata": {
    "ExecuteTime": {
     "end_time": "2025-01-04T15:56:50.037670Z",
     "start_time": "2025-01-04T15:56:50.021495Z"
    }
   },
   "outputs": [],
   "source": [
    "# TODO: Conclusion"
   ]
  },
  {
   "cell_type": "markdown",
   "id": "e5041515b885b26c",
   "metadata": {},
   "source": [
    "### save model"
   ]
  },
  {
   "cell_type": "code",
   "execution_count": null,
   "id": "ce51507d-a420-47e6-bf00-4f9248e31802",
   "metadata": {
    "ExecuteTime": {
     "end_time": "2025-01-04T15:56:52.796602Z",
     "start_time": "2025-01-04T15:56:50.037670Z"
    }
   },
   "outputs": [],
   "source": [
    "# Save params\n",
    "checkpoint = {\n",
    "    \"epoch\": epochs,\n",
    "    \"model_state_dict\": model_simpleU.state_dict(),\n",
    "    \"optimizer_state_dict\": optimizer.state_dict(),\n",
    "    \"loss\": loss\n",
    "}\n",
    "\n",
    "torch.save(checkpoint, \"checkpoint_simpleU.pt\")"
   ]
  },
  {
   "cell_type": "code",
   "execution_count": null,
   "id": "e0a40ab8-0079-46f6-b6d4-3a11f8f16d67",
   "metadata": {
    "ExecuteTime": {
     "end_time": "2025-01-04T15:56:53.588273Z",
     "start_time": "2025-01-04T15:56:52.796602Z"
    }
   },
   "outputs": [],
   "source": [
    "#save model\n",
    "torch.save(model_simpleU, \"SimpleU_entire_model.pth\")"
   ]
  },
  {
   "cell_type": "markdown",
   "id": "77b605567b146b79",
   "metadata": {},
   "source": [
    "## train on full data from all labels"
   ]
  },
  {
   "cell_type": "code",
   "execution_count": null,
   "id": "6c8213418496df9e",
   "metadata": {
    "ExecuteTime": {
     "end_time": "2025-01-04T15:56:54.093177Z",
     "start_time": "2025-01-04T15:56:53.588273Z"
    }
   },
   "outputs": [],
   "source": [
    "model_simpleU_all = SimpleUnet()\n",
    "print(\"Num params: \", sum(p.numel() for p in model_simpleU_all.parameters()))\n",
    "model_simpleU_all"
   ]
  },
  {
   "cell_type": "code",
   "execution_count": null,
   "id": "b007898be62fc307",
   "metadata": {
    "ExecuteTime": {
     "end_time": "2025-01-04T15:56:54.342653Z",
     "start_time": "2025-01-04T15:56:54.329062Z"
    }
   },
   "outputs": [],
   "source": [
    "trainloader = torch.utils.data.DataLoader(trainset, batch_size=BATCH_SIZE, shuffle=True, drop_last=True)"
   ]
  },
  {
   "metadata": {},
   "cell_type": "code",
   "outputs": [],
   "execution_count": null,
   "source": [
    "T = 100\n",
    "betas = linear_beta_schedule(timesteps=T)\n",
    "terms = precompute_terms(betas)\n",
    "model_simpleU_all.to(device)\n",
    "optimizer = torch.optim.Adam(model_simpleU_all.parameters(), lr=0.001)\n",
    "epochs = 201\n",
    "BATCH_SIZE = 128"
   ],
   "id": "9bcfc4e9551f0a"
  },
  {
   "metadata": {},
   "cell_type": "code",
   "outputs": [],
   "execution_count": null,
   "source": "wandb.init(project=\"simpleDiffusion\", entity=\"floowbaumgartner\", name=\"all_labels_bs128_lr1e-3_tdim256_t100\")",
   "id": "23354af4f5fe3c4b"
  },
  {
   "cell_type": "code",
   "execution_count": null,
   "id": "b015a7d44723d32b",
   "metadata": {
    "ExecuteTime": {
     "end_time": "2025-01-04T15:59:02.640676Z",
     "start_time": "2025-01-04T15:56:55.251114Z"
    }
   },
   "outputs": [],
   "source": [
    "loss_history_all = []\n",
    "for epoch in tqdm(range(epochs)):\n",
    "    model_simpleU_all.train()\n",
    "    for i, (data, label) in enumerate(trainloader):\n",
    "        optimizer.zero_grad()\n",
    "        t = torch.randint(0, T, (BATCH_SIZE,), device=device).long()\n",
    "        loss = get_loss(model_simpleU_all, data, t, terms[\"sqrt_alphas_cumprod\"], terms[\"sqrt_one_minus_alphas_cumprod\"], device)\n",
    "        loss.backward()\n",
    "        optimizer.step()\n",
    "        loss_history_all.append(loss.item())\n",
    "        \n",
    "    if epoch % 10 == 0:\n",
    "        print(f\"Epoch {epoch} Loss: {loss.item()}\")\n",
    "        \n",
    "        if epoch in {10, 100, 200, 300, 500, 700, 900, 1000}:\n",
    "            with torch.no_grad():\n",
    "                x_gen = sample_plot_image(T,terms[\"sqrt_one_minus_alphas_cumprod\"], terms[\"sqrt_recip_alphas\"], betas, model_simpleU, terms[\"posterior_variance\"])\n",
    "                \n",
    "        wandb.log({\n",
    "        \"epoch\": epoch,\n",
    "        \"loss\": loss.item(),\n",
    "    })\n",
    "                \n",
    "wandb.finish()"
   ]
  },
  {
   "cell_type": "code",
   "execution_count": null,
   "id": "d23abe1db25bd17d",
   "metadata": {
    "ExecuteTime": {
     "end_time": "2025-01-04T15:59:02.802708Z",
     "start_time": "2025-01-04T15:59:02.640676Z"
    }
   },
   "outputs": [],
   "source": [
    "plot_loss(loss_history_all)"
   ]
  },
  {
   "cell_type": "markdown",
   "id": "8a3a4d27ad5a4aca",
   "metadata": {},
   "source": [
    "### visualize generated images and compare to original"
   ]
  },
  {
   "cell_type": "code",
   "execution_count": null,
   "id": "6ae7a85af0537924",
   "metadata": {
    "ExecuteTime": {
     "end_time": "2025-01-04T15:59:02.933530Z",
     "start_time": "2025-01-04T15:59:02.802708Z"
    }
   },
   "outputs": [],
   "source": [
    "img_orig, label = trainloader.dataset[10_987]\n",
    "compare_images(img_orig, x_gen[0][0].squeeze())"
   ]
  },
  {
   "cell_type": "code",
   "execution_count": null,
   "id": "598cf98b8b9a197",
   "metadata": {
    "ExecuteTime": {
     "end_time": "2025-01-04T15:59:08.860036Z",
     "start_time": "2025-01-04T15:59:02.936394Z"
    }
   },
   "outputs": [],
   "source": [
    "x_gen_alllabel_list = []\n",
    "with torch.no_grad():\n",
    "    for i in range(5):\n",
    "        x_gen_alllabel = sample_plot_image(T,terms[\"sqrt_one_minus_alphas_cumprod\"], terms[\"sqrt_recip_alphas\"], betas, model_simpleU_all, terms[\"posterior_variance\"], visualize=False)\n",
    "        x_gen_alllabel_list.append(x_gen_alllabel)\n",
    "\n",
    "for x_gen in x_gen_1label_list:\n",
    "    compare_images(img_orig, x_gen[0][0].squeeze())"
   ]
  },
  {
   "cell_type": "markdown",
   "id": "7b0807d43d8c823e",
   "metadata": {},
   "source": [
    "### FID Score"
   ]
  },
  {
   "cell_type": "code",
   "execution_count": null,
   "id": "337a97afea9235d3",
   "metadata": {
    "ExecuteTime": {
     "end_time": "2025-01-04T15:59:08.869316Z",
     "start_time": "2025-01-04T15:59:08.860036Z"
    }
   },
   "outputs": [],
   "source": [
    "gen_dir = './data/generated'\n",
    "real_dir = './data/real'\n",
    "os.makedirs(gen_dir, exist_ok=True)\n",
    "os.makedirs(real_dir, exist_ok=True)"
   ]
  },
  {
   "cell_type": "code",
   "execution_count": null,
   "id": "2c0db5160ce87c2c",
   "metadata": {
    "ExecuteTime": {
     "end_time": "2025-01-04T15:59:18.983657Z",
     "start_time": "2025-01-04T15:59:08.869316Z"
    }
   },
   "outputs": [],
   "source": [
    "num_gen_imgs = 1_000\n",
    "\n",
    "# Generate and save images\n",
    "with torch.no_grad():\n",
    "    for i in range(num_gen_imgs):\n",
    "        x_gen_all = sample_plot_image(T,terms[\"sqrt_one_minus_alphas_cumprod\"], terms[\"sqrt_recip_alphas\"], betas, model_simpleU_all, terms[\"posterior_variance\"], visualize=False)\n",
    "        save_gen_imgs(gen_dir,x_gen_all, i)"
   ]
  },
  {
   "cell_type": "code",
   "execution_count": null,
   "id": "909a7bd605207eac",
   "metadata": {
    "ExecuteTime": {
     "end_time": "2025-01-04T15:59:19.007733Z",
     "start_time": "2025-01-04T15:59:18.983657Z"
    }
   },
   "outputs": [],
   "source": [
    "testloader_fid = torch.utils.data.DataLoader(testset, batch_size=num_gen_imgs, shuffle=True)\n",
    "\n",
    "# save real images\n",
    "# for i in range(num_gen_imgs):\n",
    "#     img, label = testloader_fid.dataset[i]\n",
    "#     vutils.save_image(\n",
    "#         img, \n",
    "#         os.path.join(real_dir, f'real_{i}.png')\n",
    "#    )"
   ]
  },
  {
   "cell_type": "code",
   "execution_count": null,
   "id": "2ce4eaed8b3e7734",
   "metadata": {
    "ExecuteTime": {
     "end_time": "2025-01-04T15:59:48.079588Z",
     "start_time": "2025-01-04T15:59:19.008872Z"
    }
   },
   "outputs": [],
   "source": [
    "calc_fid(real_dir, gen_dir)"
   ]
  },
  {
   "cell_type": "markdown",
   "id": "c0798c6f31ce72d6",
   "metadata": {},
   "source": [
    "### conclusion"
   ]
  },
  {
   "cell_type": "code",
   "execution_count": null,
   "id": "6a259216ab3a7fa2",
   "metadata": {
    "ExecuteTime": {
     "end_time": "2025-01-04T15:59:48.086909Z",
     "start_time": "2025-01-04T15:59:48.079588Z"
    }
   },
   "outputs": [],
   "source": [
    "# TODO: Conclusion"
   ]
  },
  {
   "cell_type": "markdown",
   "id": "bcabc60f1f26eb3",
   "metadata": {},
   "source": [
    "# conditonal diffusion model"
   ]
  },
  {
   "cell_type": "code",
   "execution_count": null,
   "id": "1a1ffc5b-3df1-4aa5-b5c0-82fe94491bcc",
   "metadata": {
    "ExecuteTime": {
     "end_time": "2025-01-04T15:59:48.102592Z",
     "start_time": "2025-01-04T15:59:48.088034Z"
    }
   },
   "outputs": [],
   "source": [
    "class ConditionalUnet(nn.Module):\n",
    "    \"\"\"\n",
    "    A simple variant of the Unet architecture.\n",
    "    \"\"\"\n",
    "    def __init__(self, num_classes=None):\n",
    "        super().__init__()\n",
    "        image_channels = 3\n",
    "        down_channels = (64, 128, 256, 512, 1024)\n",
    "        up_channels = (1024, 512, 256, 128, 64)\n",
    "        out_dim = 3 \n",
    "        time_emb_dim = 256 # TODO: changed from 32 and 64 and 128\n",
    "        # Time embedding\n",
    "        self.time_mlp = nn.Sequential(\n",
    "                SinusoidalPositionEmbeddings(time_emb_dim),\n",
    "                nn.Linear(time_emb_dim, time_emb_dim),\n",
    "                nn.SiLU() #changed from Relu to SiLU -> SiLU is a smooth version of ReLU and is good for diffusion models because can avoid dead neurons and smoother than ReLU. (but calculation takes longer)\n",
    "            )\n",
    "        \n",
    "        # Initial projection\n",
    "        self.conv0 = nn.Conv2d(image_channels, down_channels[0], 3, padding=1)\n",
    "\n",
    "        # Downsample\n",
    "        self.downs = nn.ModuleList([Block(down_channels[i], down_channels[i+1], \\\n",
    "                                    time_emb_dim) \\\n",
    "                    for i in range(len(down_channels)-1)])\n",
    "        # Upsample\n",
    "        self.ups = nn.ModuleList([Block(up_channels[i], up_channels[i+1], \\\n",
    "                                        time_emb_dim, up=True) \\\n",
    "                    for i in range(len(up_channels)-1)])\n",
    "        # Output\n",
    "        self.output = nn.Conv2d(up_channels[-1], out_dim, 1)\n",
    "        \n",
    "        # Conditional classes\n",
    "        if num_classes is not None:\n",
    "            self.label_emb = nn.Embedding(num_classes, time_emb_dim)\n",
    "\n",
    "\n",
    "    def forward(self, x, timestep, y):\n",
    "        # Embedd time\n",
    "        t = self.time_mlp(timestep)\n",
    "        \n",
    "        #conditional\n",
    "        if y is not None:\n",
    "            t += self.label_emb(y)\n",
    "        \n",
    "        # Initial conv\n",
    "        x = self.conv0(x)\n",
    "        # Unet\n",
    "        residual_inputs = []\n",
    "        for down in self.downs:\n",
    "            x = down(x, t)\n",
    "            residual_inputs.append(x)\n",
    "        for up in self.ups:\n",
    "            residual_x = residual_inputs.pop()\n",
    "            # Add residual x as additional channels\n",
    "            x = torch.cat((x, residual_x), dim=1)           \n",
    "            x = up(x, t)\n",
    "        return self.output(x)"
   ]
  },
  {
   "cell_type": "markdown",
   "id": "d9e93aa10f8570e9",
   "metadata": {},
   "source": [
    "## overfittest"
   ]
  },
  {
   "cell_type": "code",
   "execution_count": null,
   "id": "3854ad1e321838fb",
   "metadata": {
    "ExecuteTime": {
     "end_time": "2025-01-04T15:59:48.648640Z",
     "start_time": "2025-01-04T15:59:48.104211Z"
    }
   },
   "outputs": [],
   "source": [
    "num_classes = 2\n",
    "model_cond = ConditionalUnet(num_classes=num_classes)\n",
    "print(\"Num params: \", sum(p.numel() for p in model_cond.parameters()))\n",
    "model_cond"
   ]
  },
  {
   "cell_type": "code",
   "execution_count": null,
   "id": "47b0523198cdaea0",
   "metadata": {
    "ExecuteTime": {
     "end_time": "2025-01-04T15:59:48.822428Z",
     "start_time": "2025-01-04T15:59:48.648640Z"
    }
   },
   "outputs": [],
   "source": [
    "T = 100 #TODO 1000?\n",
    "betas = linear_beta_schedule(timesteps=T)\n",
    "terms = precompute_terms(betas)\n",
    "model_cond.to(device)\n",
    "optimizer = torch.optim.Adam(model_cond.parameters(), lr=0.001)\n",
    "epochs = 5_001\n",
    "BATCH_SIZE = 2"
   ]
  },
  {
   "cell_type": "code",
   "execution_count": null,
   "id": "4a80fba9d13f7ce3",
   "metadata": {
    "ExecuteTime": {
     "end_time": "2025-01-04T15:59:48.838929Z",
     "start_time": "2025-01-04T15:59:48.822428Z"
    }
   },
   "outputs": [],
   "source": [
    "desired_labels = [0, 1]  \n",
    "desired_indices = []\n",
    "\n",
    "# go through the dataset and pick the first image for each desired label\n",
    "found_labels = set()\n",
    "\n",
    "for idx, (_, label) in enumerate(trainset):\n",
    "    if label in desired_labels and label not in found_labels:\n",
    "        desired_indices.append(idx)\n",
    "        found_labels.add(label)\n",
    "    # Stop if found at least one sample for each desired label\n",
    "    if len(found_labels) == len(desired_labels):\n",
    "        break\n",
    "\n",
    "#Create a Subset\n",
    "trainset_cond_subset = Subset(trainset, desired_indices)"
   ]
  },
  {
   "cell_type": "code",
   "execution_count": null,
   "id": "2bf972d0efc85413",
   "metadata": {
    "ExecuteTime": {
     "end_time": "2025-01-04T15:59:49.574366Z",
     "start_time": "2025-01-04T15:59:48.838929Z"
    }
   },
   "outputs": [],
   "source": [
    "trainloader_cond_subset = torch.utils.data.DataLoader(trainset_cond_subset, batch_size=BATCH_SIZE, shuffle=True, drop_last=True)\n",
    "wandb.init(project=\"Conditional-Diffusion\", entity=\"floowbaumgartner\", name=\"overfit_2labels_lr1e-3_tdim256_t100\")"
   ]
  },
  {
   "cell_type": "code",
   "execution_count": null,
   "id": "e5faf209c3abcbba",
   "metadata": {
    "ExecuteTime": {
     "end_time": "2025-01-04T15:59:52.936884Z",
     "start_time": "2025-01-04T15:59:49.574366Z"
    }
   },
   "outputs": [],
   "source": [
    "loss_history_cond_oft = []\n",
    "\n",
    "for epoch in tqdm(range(epochs)):\n",
    "    model_cond.train()\n",
    "    for i, (data, label) in enumerate(trainloader_cond_subset):\n",
    "        optimizer.zero_grad()\n",
    "        label = label.to(device)\n",
    "        t = torch.randint(0, T, (BATCH_SIZE,), device=device).long()\n",
    "        loss = get_loss(model_cond, data, t, terms[\"sqrt_alphas_cumprod\"], terms[\"sqrt_one_minus_alphas_cumprod\"], device, label)\n",
    "        loss.backward()\n",
    "        optimizer.step()\n",
    "        loss_history_cond_oft.append(loss.item())\n",
    "        \n",
    "    if epoch % 100 == 0:\n",
    "        print(f\"Epoch {epoch} Loss: {loss.item()}\")\n",
    "        \n",
    "        if epoch in {100, 200, 500, 700, 1000, 2000, 3000, 4000, 5000}:\n",
    "            with torch.no_grad():\n",
    "                x_gen = sample_plot_image(T,terms[\"sqrt_one_minus_alphas_cumprod\"], terms[\"sqrt_recip_alphas\"], betas, model_cond, terms[\"posterior_variance\"],num_classes)\n",
    "                \n",
    "        wandb.log({\n",
    "        \"epoch\": epoch,\n",
    "        \"loss\": loss.item(),\n",
    "    })\n",
    "                \n",
    "wandb.finish()"
   ]
  },
  {
   "cell_type": "code",
   "execution_count": null,
   "id": "ee74e2a0f0dadc2b",
   "metadata": {
    "ExecuteTime": {
     "end_time": "2025-01-04T15:59:53.088597Z",
     "start_time": "2025-01-04T15:59:52.939912Z"
    }
   },
   "outputs": [],
   "source": [
    "plot_loss(loss_history_cond_oft)"
   ]
  },
  {
   "cell_type": "markdown",
   "id": "6f8abcff0ab4f5de",
   "metadata": {},
   "source": [
    "### visualize generated images and compare to original"
   ]
  },
  {
   "cell_type": "code",
   "execution_count": null,
   "id": "80d9208d8fe999e7",
   "metadata": {
    "ExecuteTime": {
     "end_time": "2025-01-04T15:59:55.816120Z",
     "start_time": "2025-01-04T15:59:53.088597Z"
    }
   },
   "outputs": [],
   "source": [
    "with torch.no_grad():\n",
    "    x_gen_cond_label = sample_plot_image(T,terms[\"sqrt_one_minus_alphas_cumprod\"], terms[\"sqrt_recip_alphas\"], betas, model_cond, terms[\"posterior_variance\"],num_classes=2, visualize=False, labels_default=[0,1])\n",
    "    compare_images(trainloader_cond_subset.dataset[0][0], x_gen_cond_label[1][0].squeeze())\n",
    "    compare_images(trainloader_cond_subset.dataset[1][0], x_gen_cond_label[0][0].squeeze())"
   ]
  },
  {
   "cell_type": "markdown",
   "id": "8a7c887ba9730212",
   "metadata": {},
   "source": [
    "### FID Score"
   ]
  },
  {
   "cell_type": "code",
   "execution_count": null,
   "id": "28fea25b93eb05b2",
   "metadata": {
    "ExecuteTime": {
     "end_time": "2025-01-04T15:59:55.824473Z",
     "start_time": "2025-01-04T15:59:55.819513Z"
    }
   },
   "outputs": [],
   "source": [
    "# TODO: FID Score TAKE the 2 pictures and compare them to the real images"
   ]
  },
  {
   "cell_type": "markdown",
   "id": "a1f8bb7e90495066",
   "metadata": {},
   "source": [
    "### conclusion"
   ]
  },
  {
   "cell_type": "code",
   "execution_count": null,
   "id": "12311365a9a1e6c3",
   "metadata": {
    "ExecuteTime": {
     "end_time": "2025-01-04T15:59:55.843509Z",
     "start_time": "2025-01-04T15:59:55.825480Z"
    }
   },
   "outputs": [],
   "source": [
    "# TODO: Conclusion"
   ]
  },
  {
   "cell_type": "markdown",
   "id": "d87f1cb38c0f3d97",
   "metadata": {},
   "source": [
    "## train on full data with all labels"
   ]
  },
  {
   "cell_type": "code",
   "execution_count": null,
   "id": "b21616bc9d4f9782",
   "metadata": {
    "ExecuteTime": {
     "end_time": "2025-01-04T15:59:56.273265Z",
     "start_time": "2025-01-04T15:59:55.845517Z"
    }
   },
   "outputs": [],
   "source": [
    "num_classes = 10\n",
    "model_cond_all = ConditionalUnet(num_classes=num_classes)\n",
    "print(\"Num params: \", sum(p.numel() for p in model_cond_all.parameters()))\n",
    "model_cond_all"
   ]
  },
  {
   "cell_type": "code",
   "execution_count": null,
   "id": "7e069339709982e8",
   "metadata": {
    "ExecuteTime": {
     "end_time": "2025-01-04T15:59:56.334234Z",
     "start_time": "2025-01-04T15:59:56.274778Z"
    }
   },
   "outputs": [],
   "source": [
    "T = 100 #TODO 1000?\n",
    "betas = linear_beta_schedule(timesteps=T)\n",
    "terms = precompute_terms(betas)\n",
    "model_cond_all.to(device)\n",
    "optimizer = torch.optim.Adam(model_cond_all.parameters(), lr=0.001)\n",
    "epochs = 201\n",
    "BATCH_SIZE = 128"
   ]
  },
  {
   "cell_type": "code",
   "execution_count": null,
   "id": "31b4936a9ce76727",
   "metadata": {
    "ExecuteTime": {
     "end_time": "2025-01-04T15:59:56.341772Z",
     "start_time": "2025-01-04T15:59:56.334234Z"
    }
   },
   "outputs": [],
   "source": [
    "trainloader_cond = torch.utils.data.DataLoader(trainset, batch_size=BATCH_SIZE, shuffle=True, drop_last=True)"
   ]
  },
  {
   "cell_type": "code",
   "execution_count": null,
   "id": "68e9034b4ebe47ee",
   "metadata": {
    "ExecuteTime": {
     "end_time": "2025-01-04T15:59:57.371518Z",
     "start_time": "2025-01-04T15:59:56.341772Z"
    }
   },
   "outputs": [],
   "source": "wandb.init(project=\"Conditional-Diffusion\", entity=\"floowbaumgartner\", name=\"conditional_bs256_lr1e-3_tdim128_t100\")"
  },
  {
   "cell_type": "code",
   "execution_count": null,
   "id": "fe758cb38e839d33",
   "metadata": {
    "ExecuteTime": {
     "end_time": "2025-01-04T16:10:55.353782Z",
     "start_time": "2025-01-04T15:59:57.371518Z"
    }
   },
   "outputs": [],
   "source": [
    "loss_history_cond = []\n",
    "for epoch in tqdm(range(epochs)):\n",
    "    model_cond_all.train()\n",
    "    for i, (data, label) in enumerate(trainloader_cond):\n",
    "        optimizer.zero_grad()\n",
    "        label = label.to(device)\n",
    "        t = torch.randint(0, T, (BATCH_SIZE,), device=device).long()\n",
    "        loss = get_loss(model_cond_all, data, t, terms[\"sqrt_alphas_cumprod\"], terms[\"sqrt_one_minus_alphas_cumprod\"],\n",
    "                        device, label)\n",
    "        loss.backward()\n",
    "        optimizer.step()\n",
    "        loss_history_cond.append(loss.item())\n",
    "\n",
    "    if epoch % 10 == 0:\n",
    "        print(f\"Epoch {epoch} Loss: {loss.item()}\")\n",
    "\n",
    "        if epoch in {10, 50, 100, 150, 200, 300, 500}:\n",
    "            with torch.no_grad():\n",
    "                x_gen = sample_plot_image(T, terms[\"sqrt_one_minus_alphas_cumprod\"], terms[\"sqrt_recip_alphas\"], betas, model_cond_all, terms[\"posterior_variance\"], num_classes)\n",
    "\n",
    "        wandb.log({\n",
    "            \"epoch\": epoch,\n",
    "            \"loss\": loss.item(),\n",
    "        })\n",
    "\n",
    "wandb.finish()"
   ]
  },
  {
   "cell_type": "code",
   "execution_count": null,
   "id": "980c1bde0e69fe4c",
   "metadata": {
    "ExecuteTime": {
     "end_time": "2025-01-04T16:10:59.614199Z",
     "start_time": "2025-01-04T16:10:59.447873Z"
    }
   },
   "outputs": [],
   "source": [
    "plot_loss(loss_history_cond)"
   ]
  },
  {
   "cell_type": "markdown",
   "id": "36c0f62e729c6637",
   "metadata": {},
   "source": [
    "### visualize generated images and compare to original"
   ]
  },
  {
   "cell_type": "code",
   "execution_count": null,
   "id": "997de5e8e80ad02a",
   "metadata": {
    "ExecuteTime": {
     "end_time": "2025-01-04T16:11:44.810672Z",
     "start_time": "2025-01-04T16:11:35.590728Z"
    }
   },
   "outputs": [],
   "source": [
    "try:\n",
    "    one_image_per_label = []\n",
    "    for img_trainset, label_trainset in trainset:\n",
    "        if label_trainset not in found_labels:\n",
    "            found_labels.add(label_trainset)\n",
    "            one_image_per_label.append((img_trainset, label_trainset))\n",
    "        if len(found_labels) == 10:\n",
    "            break\n",
    "    \n",
    "    with torch.no_grad():\n",
    "        x_gen_cond = sample_plot_image(T,terms[\"sqrt_one_minus_alphas_cumprod\"], terms[\"sqrt_recip_alphas\"], betas, model_cond_all, terms[\"posterior_variance\"],num_classes=10, visualize=False, labels_default=[0,1,2,3,4,5,6,7,8,9])\n",
    "        for i in range(10):\n",
    "            compare_images(one_image_per_label[i], x_gen_cond[i][0].squeeze())\n",
    "\n",
    "except:\n",
    "    continue"
   ]
  },
  {
   "cell_type": "code",
   "execution_count": null,
   "id": "527799dab894ac07",
   "metadata": {
    "ExecuteTime": {
     "end_time": "2025-01-04T16:11:56.742533Z",
     "start_time": "2025-01-04T16:11:56.731158Z"
    }
   },
   "outputs": [],
   "source": [
    "# TODO: visualize generated images and compare to original"
   ]
  },
  {
   "cell_type": "markdown",
   "id": "e8c65a08d291557f",
   "metadata": {},
   "source": [
    "### FID Score"
   ]
  },
  {
   "cell_type": "code",
   "execution_count": null,
   "id": "80f1bbb70dc23760",
   "metadata": {
    "ExecuteTime": {
     "end_time": "2025-01-04T16:30:48.104052Z",
     "start_time": "2025-01-04T16:30:48.086694Z"
    }
   },
   "outputs": [],
   "source": [
    "gen_cond_dir = r'.\\data\\generated_cond'\n",
    "real_cond_dir = r'.\\data\\real_cond'\n",
    "os.makedirs(gen_cond_dir, exist_ok=True)\n",
    "os.makedirs(real_cond_dir, exist_ok=True)"
   ]
  },
  {
   "cell_type": "code",
   "execution_count": null,
   "id": "f3907fc16f9d94e6",
   "metadata": {
    "ExecuteTime": {
     "end_time": "2025-01-04T16:18:03.072562Z",
     "start_time": "2025-01-04T16:15:53.112915Z"
    }
   },
   "outputs": [],
   "source": [
    "num_gen_imgs = 1_000\n",
    "\n",
    "# Generate and save images\n",
    "with torch.no_grad():\n",
    "    for i in range(num_gen_imgs):\n",
    "        for label_num in range(num_classes):\n",
    "            x_gen_cond_ = sample_plot_image(T,terms[\"sqrt_one_minus_alphas_cumprod\"], terms[\"sqrt_recip_alphas\"], betas, model_cond_all, terms[\"posterior_variance\"],num_classes=num_classes, visualize=False, labels_default=[label_num])\n",
    "            save_gen_imgs(gen_cond_dir,x_gen_cond_, i,label=label_num)"
   ]
  },
  {
   "cell_type": "code",
   "execution_count": null,
   "id": "581bc40dd59796af",
   "metadata": {
    "ExecuteTime": {
     "end_time": "2025-01-04T16:31:26.109575Z",
     "start_time": "2025-01-04T16:30:50.503937Z"
    }
   },
   "outputs": [],
   "source": [
    "for selected_label in range(num_classes):\n",
    "    real_cond_dir = real_cond_dir + f'\\label_{selected_label}'\n",
    "    gen_cond_dir = gen_cond_dir + f'\\label_{selected_label}'\n",
    "    print(gen_cond_dir)\n",
    "    os.makedirs(real_cond_dir, exist_ok=True)\n",
    "    # find Indices of the label in testset\n",
    "    selected_indices = [i for i, label in enumerate(testset.targets) if label == selected_label]\n",
    "\n",
    "    testset_label = Subset(testset, selected_indices)\n",
    "    #save real images\n",
    "    for j in range(num_gen_imgs):\n",
    "        img, label = testset_label[j]\n",
    "        \n",
    "        vutils.save_image(\n",
    "            img,\n",
    "            real_cond_dir + f'real_{j}.png'\n",
    "        )\n",
    "\n",
    "    calc_fid(real_cond_dir, gen_cond_dir)"
   ]
  },
  {
   "cell_type": "code",
   "execution_count": null,
   "id": "76b64412813af5a4",
   "metadata": {
    "ExecuteTime": {
     "end_time": "2025-01-04T16:10:55.372826Z",
     "start_time": "2025-01-04T16:10:55.372826Z"
    }
   },
   "outputs": [],
   "source": [
    "# TODO: FID Score"
   ]
  },
  {
   "cell_type": "markdown",
   "id": "3b54cc7233f62346",
   "metadata": {},
   "source": [
    "### conclusion"
   ]
  },
  {
   "cell_type": "code",
   "execution_count": null,
   "id": "595f2a167aafc2e0",
   "metadata": {},
   "outputs": [],
   "source": [
    "# TODO: Conclusion"
   ]
  },
  {
   "cell_type": "markdown",
   "id": "32f614b9b201ee4b",
   "metadata": {},
   "source": [
    "# examples of generated images with different default labels"
   ]
  },
  {
   "cell_type": "code",
   "execution_count": null,
   "id": "6492f19504cf02e4",
   "metadata": {
    "ExecuteTime": {
     "end_time": "2025-01-04T16:10:55.383664Z",
     "start_time": "2025-01-04T16:10:55.383664Z"
    }
   },
   "outputs": [],
   "source": [
    "# TODO: examples of generated images with different default labels"
   ]
  },
  {
   "cell_type": "markdown",
   "id": "9fe15ff0f9d904ed",
   "metadata": {},
   "source": [
    "# summary"
   ]
  },
  {
   "cell_type": "code",
   "execution_count": null,
   "id": "c5c5b8bed22701b3",
   "metadata": {
    "ExecuteTime": {
     "end_time": "2025-01-04T16:10:55.383664Z",
     "start_time": "2025-01-04T16:10:55.383664Z"
    }
   },
   "outputs": [],
   "source": [
    "# TODo: do bottleneck"
   ]
  },
  {
   "cell_type": "markdown",
   "id": "919ea55ad8b0b18",
   "metadata": {},
   "source": [
    "# fragen:\n",
    "TODO:\n",
    "diagnostische plots -> wandb\n",
    "wie testen -> qualität eines generativen modells testen"
   ]
  }
 ],
 "metadata": {
  "kernelspec": {
   "display_name": "Python 3 (ipykernel)",
   "language": "python",
   "name": "python3"
  },
  "language_info": {
   "codemirror_mode": {
    "name": "ipython",
    "version": 3
   },
   "file_extension": ".py",
   "mimetype": "text/x-python",
   "name": "python",
   "nbconvert_exporter": "python",
   "pygments_lexer": "ipython3",
   "version": "3.10.11"
  }
 },
 "nbformat": 4,
 "nbformat_minor": 5
}
